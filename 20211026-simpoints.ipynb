{
 "cells": [
  {
   "cell_type": "markdown",
   "metadata": {},
   "source": [
    "# 20211012-simpoints\n",
    "Evaluate IPCs, accuracy, and coverage over simpoints for the base prefetchers."
   ]
  },
  {
   "cell_type": "code",
   "execution_count": 1,
   "metadata": {},
   "outputs": [],
   "source": [
    "import os\n",
    "import sys\n",
    "import glob\n",
    "from collections import defaultdict\n",
    "\n",
    "import numpy as np\n",
    "import pandas as pd\n",
    "from scipy import stats\n",
    "import attrdict\n",
    "import matplotlib.pyplot as plt"
   ]
  },
  {
   "cell_type": "markdown",
   "metadata": {
    "tags": []
   },
   "source": [
    "---\n",
    "# User parameters.\n",
    "\n",
    "You can look at the simpoint-weights or the data to get the trace_id for the trace you want."
   ]
  },
  {
   "cell_type": "code",
   "execution_count": 2,
   "metadata": {},
   "outputs": [],
   "source": [
    "traces = [\n",
    "    '473.astar',\n",
    "    '471.omnetpp',\n",
    "    '429.mcf'\n",
    "]\n",
    "\n",
    "simpoints_dir = 'data/simpoint-weights/'\n",
    "results_dir = 'data/base-prefetch1-fixedcache-500m/'\n",
    "max_instruction_num = 250 # in millions\n",
    "min_instruction_interval = 3.9 # in millions (this does not affect IPC results much)"
   ]
  },
  {
   "cell_type": "markdown",
   "metadata": {
    "tags": []
   },
   "source": [
    "---\n",
    "# Load simpoint weights and results."
   ]
  },
  {
   "cell_type": "code",
   "execution_count": 3,
   "metadata": {},
   "outputs": [],
   "source": [
    "# Some spec06 traces (that we don't have) don't have an associated trace ID,\n",
    "# so for now I put 000 as their ID in simpoint-weights.\n",
    "#\n",
    "# TODO make a gap simpoint-weights will each trace's simpoints evenly weighted.\n",
    "def load_simpoint_weights(simpoints_dir, trace):\n",
    "    \"\"\"Load simpoint weights for a given trace.\"\"\"\n",
    "    simpoints = pd.DataFrame(columns=['trace', 'weight'])\n",
    "    for f in glob.glob(os.path.join(simpoints_dir, '*.csv')):\n",
    "        df = pd.read_csv(f)\n",
    "        simpoints = pd.concat((simpoints, df))\n",
    "    tr_points = simpoints[simpoints.trace.str.contains(trace)]\n",
    "    weights = np.array(tr_points.weight.array)\n",
    "    return weights"
   ]
  },
  {
   "cell_type": "code",
   "execution_count": 4,
   "metadata": {},
   "outputs": [],
   "source": [
    "simpoint_weights = {}\n",
    "for tr in traces:\n",
    "    simpoint_weights[tr] = load_simpoint_weights(simpoints_dir, tr)"
   ]
  },
  {
   "cell_type": "code",
   "execution_count": 5,
   "metadata": {},
   "outputs": [
    {
     "name": "stdout",
     "output_type": "stream",
     "text": [
      "Simpoint weights:\n",
      "473.astar    : [0.452174 0.162319 0.22029 ] largest = s0\n",
      "471.omnetpp  : [0.0309654 0.954463  0.010929 ] largest = s1\n",
      "429.mcf      : [0.154639 0.175258 0.329897] largest = s2\n"
     ]
    }
   ],
   "source": [
    "print('Simpoint weights:')\n",
    "for tr in traces:\n",
    "    print(f'{tr:12} : {simpoint_weights[tr]} largest = s{simpoint_weights[tr].argmax()}') # Why don't mcf weights add to 100?"
   ]
  },
  {
   "cell_type": "code",
   "execution_count": 57,
   "metadata": {},
   "outputs": [],
   "source": [
    "def parse_champsim_result_file(f, max_instruction_num=None, min_instruction_interval=0):\n",
    "    data = {\n",
    "        'instructions': [],\n",
    "        'cycles': [],\n",
    "        'heartbeat_ipcs': [],\n",
    "        'cumulative_ipcs': [],\n",
    "        'cumulative_sim_times': [],\n",
    "    }\n",
    "    \n",
    "    last_instruction = 0\n",
    "    warmups_completed = 0 # 0 = none, 1 = CPU, 2 = CPU + prefetch\n",
    "    for line in f:\n",
    "        line_tokens = line.split(' ')\n",
    "        \n",
    "        # Only append data after the prefetch warmup completes.\n",
    "        # DEBUG - Hardcoded stop condition (for now. It should stop\n",
    "        # automatically, but for some reason it doesn't).\n",
    "        if 'Warmup complete' in line:\n",
    "            warmups_completed += 1\n",
    "        \n",
    "        if 'Heartbeat' in line:\n",
    "            #print(line)\n",
    "            instructions = int(line_tokens[line_tokens.index('instructions:') + 1])\n",
    "            cycles = int(line_tokens[line_tokens.index('cycles:') + 1])\n",
    "            heartbeat_ipc = float(line_tokens[line_tokens.index('heartbeat') + 2])\n",
    "            cumulative_ipc = float(line_tokens[line_tokens.index('cumulative') + 2])\n",
    "            cumulative_sim_time = int(line_tokens[line_tokens.index('time:') + 1]) * 3600 \\\n",
    "                              + int(line_tokens[line_tokens.index('time:') + 3]) * 60 \\\n",
    "                              + int(line_tokens[line_tokens.index('time:') + 5]) \\\n",
    "\n",
    "            # DEBUG - Temporary fix until we can figure out why\n",
    "            # ChampSim runs too long.\n",
    "            if max_instruction_num and instructions >= max_instruction_num: \n",
    "                warmups_completed = 0\n",
    "            \n",
    "            if warmups_completed >= 2 and instructions - last_instruction > min_instruction_interval:\n",
    "                data['instructions'].append(instructions)\n",
    "                data['cycles'].append(cycles)\n",
    "                data['heartbeat_ipcs'].append(heartbeat_ipc)\n",
    "                data['cumulative_ipcs'].append(cumulative_ipc)\n",
    "                data['cumulative_sim_times'].append(cumulative_sim_time)\n",
    "                last_instruction = instructions\n",
    "        \n",
    "        if 'LLC PREFETCH' in line and 'REQUESTED' in line:\n",
    "            data['useful_prefetches'] = int(line.split()[-3])\n",
    "            data['useless_prefetches'] = int(line.split()[-1])\n",
    "        if 'LLC LOAD' in line:\n",
    "            data['llc_load_hits'] = int(line.split()[-3])\n",
    "        if 'LLC RFO' in line:\n",
    "            data['llc_rfo_hits'] = int(line.split()[-3])\n",
    "            \n",
    "    safediv = lambda x, y : x / y if y != 0 else 0\n",
    "    data['accuracy'] = safediv(data['useful_prefetches'], (data['useful_prefetches'] + data['useless_prefetches']))\n",
    "    # Coverage must be calculated separately, since it depends on the baseline prefetcher.\n",
    "    \n",
    "    return attrdict.AttrDict(data)\n",
    "\n",
    "def load_champsim_base_results(base, tracename, **kwargs):\n",
    "    base_path = base + f'*{tracename}*.txt'\n",
    "    data = {}\n",
    "    print('Loading results from:', base_path)\n",
    "    variation_paths = sorted(glob.glob(base_path))\n",
    "    for path in variation_paths:\n",
    "        if '-bo' in os.path.basename(path):\n",
    "            variation_name = 'BO'\n",
    "        elif '-sisb_bo' in os.path.basename(path):\n",
    "            variation_name = 'ISB+BO'\n",
    "        elif '-sisb-' in os.path.basename(path):\n",
    "            variation_name = 'ISB'\n",
    "        elif '-no' in os.path.basename(path):\n",
    "            variation_name = 'NoPrefetcher'\n",
    "        else:\n",
    "            continue\n",
    "        with open(path, 'r') as f:\n",
    "            data[variation_name] = parse_champsim_result_file(\n",
    "                f, **kwargs\n",
    "            )\n",
    "    print('    Found variations:', *data.keys())\n",
    "    return data"
   ]
  },
  {
   "cell_type": "code",
   "execution_count": 58,
   "metadata": {},
   "outputs": [
    {
     "name": "stdout",
     "output_type": "stream",
     "text": [
      "473.astar\n",
      "Loading results from: data/base-prefetch1-fixedcache-500m/*473.astar-s0*.txt\n",
      "    Found variations: BO NoPrefetcher ISB ISB+BO\n",
      "Loading results from: data/base-prefetch1-fixedcache-500m/*473.astar-s1*.txt\n",
      "    Found variations: BO NoPrefetcher ISB ISB+BO\n",
      "Loading results from: data/base-prefetch1-fixedcache-500m/*473.astar-s2*.txt\n",
      "    Found variations: BO NoPrefetcher ISB ISB+BO\n",
      "471.omnetpp\n",
      "Loading results from: data/base-prefetch1-fixedcache-500m/*471.omnetpp-s0*.txt\n",
      "    Found variations: BO NoPrefetcher ISB ISB+BO\n",
      "Loading results from: data/base-prefetch1-fixedcache-500m/*471.omnetpp-s1*.txt\n",
      "    Found variations: BO NoPrefetcher ISB ISB+BO\n",
      "Loading results from: data/base-prefetch1-fixedcache-500m/*471.omnetpp-s2*.txt\n",
      "    Found variations: BO NoPrefetcher ISB ISB+BO\n",
      "429.mcf\n",
      "Loading results from: data/base-prefetch1-fixedcache-500m/*429.mcf-s0*.txt\n",
      "    Found variations: BO NoPrefetcher ISB ISB+BO\n",
      "Loading results from: data/base-prefetch1-fixedcache-500m/*429.mcf-s1*.txt\n",
      "    Found variations: BO NoPrefetcher ISB ISB+BO\n",
      "Loading results from: data/base-prefetch1-fixedcache-500m/*429.mcf-s2*.txt\n",
      "    Found variations: BO NoPrefetcher ISB ISB+BO\n"
     ]
    }
   ],
   "source": [
    "results = {}\n",
    "for tr in traces:\n",
    "    print(tr)\n",
    "    base_data = []\n",
    "    for i in range(len(simpoint_weights[tr])):\n",
    "        base_data.append(load_champsim_base_results(\n",
    "            results_dir, f'{tr}-s{i}', \n",
    "            max_instruction_num=max_instruction_num * 1000000,\n",
    "            min_instruction_interval=int(min_instruction_interval * 1000000)\n",
    "        ))\n",
    "    results[tr] = base_data"
   ]
  },
  {
   "cell_type": "markdown",
   "metadata": {},
   "source": [
    "---\n",
    "# IPC measurements\n",
    "IPC = Instructions per cycle\n",
    "- WGM: Take the weighted geometric mean of IPCs for the given trace, using the simpoint weights.\n",
    "    - WGM Cumulative IPCs\n",
    "    - WGM IPC speedup, vs no prefetcher\n",
    "- Largest simpoint: Only consider IPC measurements from the longest (largest share) simpoint.\n",
    "    - LS Cumulative IPCs\n",
    "    - LS IPC speedup, vs no prefetcher\n",
    "- **TODO**: Include Paper values"
   ]
  },
  {
   "cell_type": "code",
   "execution_count": 59,
   "metadata": {},
   "outputs": [],
   "source": [
    "def get_simpoint_ipcs(results):\n",
    "    \"\"\"Parse the results dictionary to get an array\n",
    "    of simpoint IPCs for each prefetcher. For prefetcher \n",
    "    p, simpoint_ipcs[p][i] is the cumulative IPC of p on\n",
    "    simpoint s_i.\n",
    "    \"\"\"\n",
    "    num_simpoints = len(results)\n",
    "    simpoint_ipcs = defaultdict(lambda : np.zeros(num_simpoints, dtype=np.float32)) # Simpoint IPCs, indexed by prefetcher.\n",
    "    for spidx, sp in enumerate(results):\n",
    "        for pf in sp:\n",
    "            # TODO handle missing / incomplete traces automatically \n",
    "            # (instead of using a debug if statement here to filter \n",
    "            # out unfinished runs)\n",
    "            simpoint_ipcs[pf][spidx] = sp[pf].cumulative_ipcs[-1] \n",
    "    return simpoint_ipcs\n",
    "\n",
    "def get_wgm_ipcs(results, simpoint_weights):\n",
    "    \"\"\"Calculate the weighted geometric mean cumulative IPC \n",
    "    of each prefetcher over the simpoints.\n",
    "    \"\"\"\n",
    "    simpoint_ipcs = get_simpoint_ipcs(results)\n",
    "    wgm_ipcs = {}\n",
    "    for pf in simpoint_ipcs:\n",
    "        wgm_ipcs[pf] = stats.mstats.gmean(simpoint_ipcs[pf], weights=simpoint_weights)\n",
    "    return wgm_ipcs\n",
    "\n",
    "def get_wgm_ipc_speedups(results, simpoint_weights, baseline_prefetcher='NoPrefetcher'):\n",
    "    \"\"\"Calcualte the weighted geometric mean cumulative IPC\n",
    "    of each prefetcher, then get the relative IPC against the weighted \n",
    "    geometric mean of the baseline prefetcher, to get speedup.\n",
    "    \n",
    "    TODO - is the above method correct?\n",
    "    \"\"\"\n",
    "    simpoint_ipcs = get_simpoint_ipcs(results)\n",
    "    wgm_ipc_speedups = {}\n",
    "    \n",
    "    for pf in simpoint_ipcs:\n",
    "        rel_ipcs = 1 + ((simpoint_ipcs[pf] - simpoint_ipcs[baseline_prefetcher])/simpoint_ipcs[baseline_prefetcher])\n",
    "        wgm_rel_ipc = stats.mstats.gmean(rel_ipcs, weights=simpoint_weights)\n",
    "        wgm_ipc_speedups[pf] = wgm_rel_ipc - 1.\n",
    "    return wgm_ipc_speedups\n",
    "\n",
    "def get_ls_ipcs(results, simpoint_weights):\n",
    "    \"\"\"Calculate the largest simpoint cumulative IPC\n",
    "    of each prefetcher.\n",
    "    \"\"\"\n",
    "    simpoint_ipcs = get_simpoint_ipcs(results)\n",
    "    longest = np.argmax(simpoint_weights)\n",
    "    ls_ipcs = {}\n",
    "    for pf in simpoint_ipcs:\n",
    "        ls_ipcs[pf] = simpoint_ipcs[pf][longest]\n",
    "    return ls_ipcs\n",
    "    \n",
    "def get_ls_ipc_speedups(results, simpoint_weights, baseline_prefetcher='NoPrefetcher'):\n",
    "    \"\"\"Calculate the largest simpoint cumulative IPC speedup\n",
    "    of each prefetcher.\n",
    "    \"\"\"\n",
    "    simpoint_ipcs = get_simpoint_ipcs(results)\n",
    "    longest = np.argmax(simpoint_weights)\n",
    "    #print('Longest:', longest, simpoint_weights)\n",
    "    ls_ipc_speedups = {}\n",
    "    \n",
    "    for pf in simpoint_ipcs:\n",
    "        ls_rel_ipc = 1 + ((simpoint_ipcs[pf][longest] - simpoint_ipcs[baseline_prefetcher][longest]) / simpoint_ipcs[baseline_prefetcher][longest])\n",
    "        ls_ipc_speedups[pf] = ls_rel_ipc - 1\n",
    "    return ls_ipc_speedups"
   ]
  },
  {
   "cell_type": "code",
   "execution_count": 60,
   "metadata": {},
   "outputs": [],
   "source": [
    "wgm_ipcs, wgm_ipc_speedups = {}, {}\n",
    "ls_ipcs, ls_ipc_speedups = {}, {}\n",
    "\n",
    "for tr in traces:\n",
    "    wgm_ipcs[tr] = get_wgm_ipcs(results[tr], simpoint_weights[tr])\n",
    "    wgm_ipc_speedups[tr] = get_wgm_ipc_speedups(results[tr], simpoint_weights[tr])\n",
    "    ls_ipcs[tr] = get_ls_ipcs(results[tr], simpoint_weights[tr])\n",
    "    ls_ipc_speedups[tr] = get_ls_ipc_speedups(results[tr], simpoint_weights[tr])"
   ]
  },
  {
   "cell_type": "markdown",
   "metadata": {},
   "source": [
    "#### Cumulative IPCs"
   ]
  },
  {
   "cell_type": "code",
   "execution_count": 125,
   "metadata": {},
   "outputs": [],
   "source": [
    "def plot_ipcs(ipcs, subtitle=None):\n",
    "    \"\"\"Plot (weighted geometric) mean IPCs for a\n",
    "    list of prefetchers.\n",
    "    \"\"\"\n",
    "    traces = list(ipcs.keys())\n",
    "    \n",
    "    fig, ax = plt.subplots(dpi=128)\n",
    "    #ax.grid()\n",
    "    #ax.set_axisbelow(True) # Plot grid under bars.\n",
    "    \n",
    "    for i, tr in enumerate(traces):\n",
    "        ax.bar(i, ipcs[tr]['BO'], color='C0', width = 0.15, label='BO' if i == 0 else '')\n",
    "        ax.bar(i + 0.2, ipcs[tr]['ISB'], color='C1', width=0.15, label='ISB' if i == 0 else '')\n",
    "        ax.bar(i + 0.4, ipcs[tr]['ISB+BO'], color='C2', width=0.15, label='ISB+BO' if i == 0 else '')\n",
    "        ax.bar(i + 0.6, ipcs[tr]['NoPrefetcher'], color='C3', width=0.15, label='NoPrefetcher' if i == 0 else '')\n",
    "            \n",
    "    ax.legend()\n",
    "    ax.set_xticks(np.arange(0, len(traces)) + 0.3)\n",
    "    ax.set_xticklabels(traces)\n",
    "    title = 'Cumulative IPCs'\n",
    "    if subtitle:\n",
    "        title += f' ({subtitle})'\n",
    "    ax.set_title(title)\n",
    "    ax.set_ylabel('Cumulative IPC')\n",
    "    ax.set_ylim(ymax=1.3)\n",
    "    \n",
    "def df_ipcs(ipcs):\n",
    "    return pd.DataFrame.from_dict(ipcs)"
   ]
  },
  {
   "cell_type": "code",
   "execution_count": 127,
   "metadata": {},
   "outputs": [
    {
     "data": {
      "image/png": "[encoded data removed]",
      "text/plain": [
       "<Figure size 768x512 with 1 Axes>"
      ]
     },
     "metadata": {
      "needs_background": "light"
     },
     "output_type": "display_data"
    }
   ],
   "source": [
    "plot_ipcs(wgm_ipcs, subtitle='Weighted simpoints')"
   ]
  },
  {
   "cell_type": "code",
   "execution_count": 128,
   "metadata": {},
   "outputs": [
    {
     "data": {
      "image/png": "[encoded data removed]",
      "text/plain": [
       "<Figure size 768x512 with 1 Axes>"
      ]
     },
     "metadata": {
      "needs_background": "light"
     },
     "output_type": "display_data"
    }
   ],
   "source": [
    "plot_ipcs(ls_ipcs, subtitle='Longest simpoint')"
   ]
  },
  {
   "cell_type": "code",
   "execution_count": 64,
   "metadata": {},
   "outputs": [
    {
     "data": {
      "text/html": [
       "<div>\n",
       "<style scoped>\n",
       "    .dataframe tbody tr th:only-of-type {\n",
       "        vertical-align: middle;\n",
       "    }\n",
       "\n",
       "    .dataframe tbody tr th {\n",
       "        vertical-align: top;\n",
       "    }\n",
       "\n",
       "    .dataframe thead th {\n",
       "        text-align: right;\n",
       "    }\n",
       "</style>\n",
       "<table border=\"1\" class=\"dataframe\">\n",
       "  <thead>\n",
       "    <tr style=\"text-align: right;\">\n",
       "      <th></th>\n",
       "      <th>473.astar</th>\n",
       "      <th>471.omnetpp</th>\n",
       "      <th>429.mcf</th>\n",
       "    </tr>\n",
       "  </thead>\n",
       "  <tbody>\n",
       "    <tr>\n",
       "      <th>BO</th>\n",
       "      <td>0.521664</td>\n",
       "      <td>0.307991</td>\n",
       "      <td>0.088576</td>\n",
       "    </tr>\n",
       "    <tr>\n",
       "      <th>NoPrefetcher</th>\n",
       "      <td>0.519859</td>\n",
       "      <td>0.298076</td>\n",
       "      <td>0.088573</td>\n",
       "    </tr>\n",
       "    <tr>\n",
       "      <th>ISB</th>\n",
       "      <td>0.592629</td>\n",
       "      <td>0.423815</td>\n",
       "      <td>0.112325</td>\n",
       "    </tr>\n",
       "    <tr>\n",
       "      <th>ISB+BO</th>\n",
       "      <td>0.592681</td>\n",
       "      <td>0.426096</td>\n",
       "      <td>0.112348</td>\n",
       "    </tr>\n",
       "  </tbody>\n",
       "</table>\n",
       "</div>"
      ],
      "text/plain": [
       "              473.astar  471.omnetpp   429.mcf\n",
       "BO             0.521664     0.307991  0.088576\n",
       "NoPrefetcher   0.519859     0.298076  0.088573\n",
       "ISB            0.592629     0.423815  0.112325\n",
       "ISB+BO         0.592681     0.426096  0.112348"
      ]
     },
     "execution_count": 64,
     "metadata": {},
     "output_type": "execute_result"
    }
   ],
   "source": [
    "df_ipcs(wgm_ipcs)"
   ]
  },
  {
   "cell_type": "code",
   "execution_count": 65,
   "metadata": {},
   "outputs": [
    {
     "data": {
      "text/html": [
       "<div>\n",
       "<style scoped>\n",
       "    .dataframe tbody tr th:only-of-type {\n",
       "        vertical-align: middle;\n",
       "    }\n",
       "\n",
       "    .dataframe tbody tr th {\n",
       "        vertical-align: top;\n",
       "    }\n",
       "\n",
       "    .dataframe thead th {\n",
       "        text-align: right;\n",
       "    }\n",
       "</style>\n",
       "<table border=\"1\" class=\"dataframe\">\n",
       "  <thead>\n",
       "    <tr style=\"text-align: right;\">\n",
       "      <th></th>\n",
       "      <th>473.astar</th>\n",
       "      <th>471.omnetpp</th>\n",
       "      <th>429.mcf</th>\n",
       "    </tr>\n",
       "  </thead>\n",
       "  <tbody>\n",
       "    <tr>\n",
       "      <th>BO</th>\n",
       "      <td>1.11591</td>\n",
       "      <td>0.301012</td>\n",
       "      <td>0.098140</td>\n",
       "    </tr>\n",
       "    <tr>\n",
       "      <th>NoPrefetcher</th>\n",
       "      <td>1.11591</td>\n",
       "      <td>0.290903</td>\n",
       "      <td>0.098132</td>\n",
       "    </tr>\n",
       "    <tr>\n",
       "      <th>ISB</th>\n",
       "      <td>1.18093</td>\n",
       "      <td>0.419039</td>\n",
       "      <td>0.138004</td>\n",
       "    </tr>\n",
       "    <tr>\n",
       "      <th>ISB+BO</th>\n",
       "      <td>1.18093</td>\n",
       "      <td>0.421382</td>\n",
       "      <td>0.138053</td>\n",
       "    </tr>\n",
       "  </tbody>\n",
       "</table>\n",
       "</div>"
      ],
      "text/plain": [
       "              473.astar  471.omnetpp   429.mcf\n",
       "BO              1.11591     0.301012  0.098140\n",
       "NoPrefetcher    1.11591     0.290903  0.098132\n",
       "ISB             1.18093     0.419039  0.138004\n",
       "ISB+BO          1.18093     0.421382  0.138053"
      ]
     },
     "execution_count": 65,
     "metadata": {},
     "output_type": "execute_result"
    }
   ],
   "source": [
    "df_ipcs(ls_ipcs)"
   ]
  },
  {
   "cell_type": "markdown",
   "metadata": {},
   "source": [
    "#### IPC speedup (vs. no prefetcher)"
   ]
  },
  {
   "cell_type": "code",
   "execution_count": 122,
   "metadata": {},
   "outputs": [],
   "source": [
    "def plot_ipc_speedups(ipc_speedups, subtitle=None):\n",
    "    \"\"\"Plot (weighted geometric) mean IPCs for a\n",
    "    list of prefetchers.\n",
    "    \"\"\"\n",
    "    traces = list(ipc_speedups.keys())\n",
    "    \n",
    "    fig, ax = plt.subplots(dpi=128)\n",
    "    #ax.grid()\n",
    "    #ax.set_axisbelow(True) # Plot grid under bars.\n",
    "    \n",
    "    for i, tr in enumerate(traces):\n",
    "        ax.bar(i, ipc_speedups[tr]['BO'] * 100., color='C0', width = 0.15, label='BO' if i == 0 else '')\n",
    "        ax.bar(i + 0.2, ipc_speedups[tr]['ISB'] * 100., color='C1', width=0.15, label='ISB' if i == 0 else '')\n",
    "        ax.bar(i + 0.4, ipc_speedups[tr]['ISB+BO'] * 100., color='C2', width=0.15, label='ISB+BO' if i == 0 else '')\n",
    "            \n",
    "    ax.legend()\n",
    "    ax.set_xticks(np.arange(0, len(traces)) + 0.2)\n",
    "    ax.set_xticklabels(traces)\n",
    "    title = 'IPC speedup'\n",
    "    if subtitle:\n",
    "        title += f' ({subtitle})'\n",
    "    ax.set_title(title)\n",
    "    ax.set_ylabel('IPC speedup (%)')\n",
    "    ax.set_ylim(ymax=50)\n",
    "\n",
    "def df_ipc_speedups(ipc_speedups):\n",
    "    ipc_speedups_ = {}\n",
    "    for k in ipc_speedups.keys():\n",
    "        ipc_speedups_[k] = {k_ : round(v * 100., 2) for k_, v in ipc_speedups[k].items()}\n",
    "        ipc_speedups_[k].pop('NoPrefetcher', None)\n",
    "    return pd.DataFrame.from_dict(ipc_speedups_)"
   ]
  },
  {
   "cell_type": "code",
   "execution_count": 123,
   "metadata": {},
   "outputs": [
    {
     "data": {
      "image/png": "[encoded data removed]",
      "text/plain": [
       "<Figure size 768x512 with 1 Axes>"
      ]
     },
     "metadata": {
      "needs_background": "light"
     },
     "output_type": "display_data"
    }
   ],
   "source": [
    "plot_ipc_speedups(wgm_ipc_speedups, subtitle='Weighted simpoints')"
   ]
  },
  {
   "cell_type": "code",
   "execution_count": 124,
   "metadata": {},
   "outputs": [
    {
     "data": {
      "image/png": "[encoded data removed]",
      "text/plain": [
       "<Figure size 768x512 with 1 Axes>"
      ]
     },
     "metadata": {
      "needs_background": "light"
     },
     "output_type": "display_data"
    }
   ],
   "source": [
    "plot_ipc_speedups(ls_ipc_speedups, subtitle='Longest simpoint')"
   ]
  },
  {
   "cell_type": "code",
   "execution_count": 70,
   "metadata": {},
   "outputs": [
    {
     "data": {
      "text/html": [
       "<div>\n",
       "<style scoped>\n",
       "    .dataframe tbody tr th:only-of-type {\n",
       "        vertical-align: middle;\n",
       "    }\n",
       "\n",
       "    .dataframe tbody tr th {\n",
       "        vertical-align: top;\n",
       "    }\n",
       "\n",
       "    .dataframe thead th {\n",
       "        text-align: right;\n",
       "    }\n",
       "</style>\n",
       "<table border=\"1\" class=\"dataframe\">\n",
       "  <thead>\n",
       "    <tr style=\"text-align: right;\">\n",
       "      <th></th>\n",
       "      <th>473.astar</th>\n",
       "      <th>471.omnetpp</th>\n",
       "      <th>429.mcf</th>\n",
       "    </tr>\n",
       "  </thead>\n",
       "  <tbody>\n",
       "    <tr>\n",
       "      <th>BO</th>\n",
       "      <td>0.35</td>\n",
       "      <td>3.33</td>\n",
       "      <td>0.00</td>\n",
       "    </tr>\n",
       "    <tr>\n",
       "      <th>ISB</th>\n",
       "      <td>14.00</td>\n",
       "      <td>42.18</td>\n",
       "      <td>26.82</td>\n",
       "    </tr>\n",
       "    <tr>\n",
       "      <th>ISB+BO</th>\n",
       "      <td>14.01</td>\n",
       "      <td>42.95</td>\n",
       "      <td>26.84</td>\n",
       "    </tr>\n",
       "  </tbody>\n",
       "</table>\n",
       "</div>"
      ],
      "text/plain": [
       "        473.astar  471.omnetpp  429.mcf\n",
       "BO           0.35         3.33     0.00\n",
       "ISB         14.00        42.18    26.82\n",
       "ISB+BO      14.01        42.95    26.84"
      ]
     },
     "execution_count": 70,
     "metadata": {},
     "output_type": "execute_result"
    }
   ],
   "source": [
    "df_ipc_speedups(wgm_ipc_speedups)"
   ]
  },
  {
   "cell_type": "code",
   "execution_count": 71,
   "metadata": {},
   "outputs": [
    {
     "data": {
      "text/html": [
       "<div>\n",
       "<style scoped>\n",
       "    .dataframe tbody tr th:only-of-type {\n",
       "        vertical-align: middle;\n",
       "    }\n",
       "\n",
       "    .dataframe tbody tr th {\n",
       "        vertical-align: top;\n",
       "    }\n",
       "\n",
       "    .dataframe thead th {\n",
       "        text-align: right;\n",
       "    }\n",
       "</style>\n",
       "<table border=\"1\" class=\"dataframe\">\n",
       "  <thead>\n",
       "    <tr style=\"text-align: right;\">\n",
       "      <th></th>\n",
       "      <th>473.astar</th>\n",
       "      <th>471.omnetpp</th>\n",
       "      <th>429.mcf</th>\n",
       "    </tr>\n",
       "  </thead>\n",
       "  <tbody>\n",
       "    <tr>\n",
       "      <th>BO</th>\n",
       "      <td>0.00</td>\n",
       "      <td>3.48</td>\n",
       "      <td>0.01</td>\n",
       "    </tr>\n",
       "    <tr>\n",
       "      <th>ISB</th>\n",
       "      <td>5.83</td>\n",
       "      <td>44.05</td>\n",
       "      <td>40.63</td>\n",
       "    </tr>\n",
       "    <tr>\n",
       "      <th>ISB+BO</th>\n",
       "      <td>5.83</td>\n",
       "      <td>44.85</td>\n",
       "      <td>40.68</td>\n",
       "    </tr>\n",
       "  </tbody>\n",
       "</table>\n",
       "</div>"
      ],
      "text/plain": [
       "        473.astar  471.omnetpp  429.mcf\n",
       "BO           0.00         3.48     0.01\n",
       "ISB          5.83        44.05    40.63\n",
       "ISB+BO       5.83        44.85    40.68"
      ]
     },
     "execution_count": 71,
     "metadata": {},
     "output_type": "execute_result"
    }
   ],
   "source": [
    "df_ipc_speedups(ls_ipc_speedups)"
   ]
  },
  {
   "cell_type": "markdown",
   "metadata": {
    "tags": []
   },
   "source": [
    "---\n",
    "# Accuracy measurements\n",
    "Accuracy = useful / (useful + useless) prefetches\n",
    "- WGM: Take the weighted geometric mean of accuracies for the given trace, using the simpoint weights.\n",
    "    - WGM accuracy\n",
    "    - **TODO**: Figure out WGM for prefetchers like BO, that sometimes have zero accuracy. Should we even use WGM?\n",
    "- Largest simpoint: Only consider accuracy of the largest (highest-weighted) simpoint.\n",
    "    - LS accuracy\n",
    "- **TODO**: Include Paper values\n",
    "- **TODO**: Increase code-reuse from IPC"
   ]
  },
  {
   "cell_type": "code",
   "execution_count": 87,
   "metadata": {},
   "outputs": [],
   "source": [
    "def get_simpoint_accuracies(results):\n",
    "    \"\"\"Parse the results dictionary to get an array\n",
    "    of simpoint accuracies for each prefetcher. For prefetcher \n",
    "    p, simpoint_accs[p][i] is the accuracy of p on\n",
    "    simpoint s_i.\n",
    "    \"\"\"\n",
    "    num_simpoints = len(results)\n",
    "    simpoint_accs = defaultdict(lambda : np.zeros(num_simpoints, dtype=np.float32)) # Simpoint IPCs, indexed by prefetcher.\n",
    "    for spidx, sp in enumerate(results):\n",
    "        for pf in sp:\n",
    "            # TODO handle missing / incomplete traces automatically \n",
    "            # (instead of using a debug if statement here to filter \n",
    "            # out unfinished runs)\n",
    "            simpoint_accs[pf][spidx] = sp[pf].accuracy\n",
    "    return simpoint_accs\n",
    "\n",
    "def get_wgm_accuracies(results, simpoint_weights):\n",
    "    \"\"\"Calculate the weighted geometric mean accuracy \n",
    "    of each prefetcher over the simpoints.\n",
    "    \"\"\"\n",
    "    simpoint_accs = get_simpoint_accuracies(results)\n",
    "    wgm_accs = {}\n",
    "    for pf in simpoint_accs:\n",
    "        wgm_accs[pf] = stats.mstats.gmean(simpoint_accs[pf], weights=simpoint_weights)\n",
    "    return wgm_accs\n",
    "\n",
    "def get_ls_accuracies(results, simpoint_weights):\n",
    "    \"\"\"Calculate the largest simpoint accuracy\n",
    "    of each prefetcher.\n",
    "    \"\"\"\n",
    "    simpoint_accs = get_simpoint_accuracies(results)\n",
    "    longest = np.argmax(simpoint_weights)\n",
    "    ls_accs = {}\n",
    "    for pf in simpoint_accs:\n",
    "        ls_accs[pf] = simpoint_accs[pf][longest]\n",
    "    return ls_accs"
   ]
  },
  {
   "cell_type": "code",
   "execution_count": 91,
   "metadata": {},
   "outputs": [],
   "source": [
    "wgm_accs = {}\n",
    "ls_accs = {}\n",
    "\n",
    "for tr in traces:\n",
    "    #print(tr, get_simpoint_accuracies(results[tr]))\n",
    "    #wgm_accs[tr] = get_wgm_accuracies(results[tr], simpoint_weights[tr])\n",
    "    #print(wgm_accs)\n",
    "    ls_accs[tr] = get_ls_accuracies(results[tr], simpoint_weights[tr])"
   ]
  },
  {
   "cell_type": "code",
   "execution_count": 110,
   "metadata": {},
   "outputs": [],
   "source": [
    "def plot_accuracies(accs, subtitle=None):\n",
    "    \"\"\"Plot (weighted geometric) mean IPCs for a\n",
    "    list of prefetchers.\n",
    "    \"\"\"\n",
    "    traces = list(accs.keys())\n",
    "    \n",
    "    fig, ax = plt.subplots(dpi=128)\n",
    "    #ax.grid()\n",
    "    #ax.set_axisbelow(True) # Plot grid under bars.\n",
    "    #print(results)\n",
    "    #print(traces)\n",
    "    #print(results[traces[0]]['BO'])\n",
    "    \n",
    "    for i, tr in enumerate(traces):\n",
    "        ax.bar(i, accs[tr]['BO'] * 100., color='C0', width = 0.15, label='BO' if i == 0 else '')\n",
    "        ax.bar(i + 0.2, accs[tr]['ISB'] * 100., color='C1', width=0.15, label='ISB' if i == 0 else '')\n",
    "        ax.bar(i + 0.4, accs[tr]['ISB+BO'] * 100., color='C2', width=0.15, label='ISB+BO' if i == 0 else '')\n",
    "            \n",
    "    ax.legend()\n",
    "    ax.set_xticks(np.arange(0, len(traces)) + 0.2)\n",
    "    ax.set_xticklabels(traces)\n",
    "    title = 'Accuracy'\n",
    "    if subtitle:\n",
    "        title += f' ({subtitle})'\n",
    "    ax.set_title(title)\n",
    "    ax.set_ylabel('Accuracy (%)')\n",
    "    ax.set_ylim(ymin=0, ymax=100)\n",
    "    \n",
    "def df_accuracies(accs):\n",
    "    accs_ = {}\n",
    "    for k in accs.keys():\n",
    "        accs_[k] = {k_ : round(v * 100., 2) for k_, v in accs[k].items()}\n",
    "        accs_[k].pop('NoPrefetcher', None)\n",
    "    return pd.DataFrame.from_dict(accs_)"
   ]
  },
  {
   "cell_type": "code",
   "execution_count": 106,
   "metadata": {},
   "outputs": [],
   "source": [
    "#plot_accuracies(wgm_accs, subtitle='Weighted simpoints')"
   ]
  },
  {
   "cell_type": "code",
   "execution_count": 111,
   "metadata": {},
   "outputs": [
    {
     "data": {
      "image/png": "[encoded data removed]",
      "text/plain": [
       "<Figure size 768x512 with 1 Axes>"
      ]
     },
     "metadata": {
      "needs_background": "light"
     },
     "output_type": "display_data"
    }
   ],
   "source": [
    "plot_accuracies(ls_accs, subtitle='Longest simpoint')"
   ]
  },
  {
   "cell_type": "code",
   "execution_count": null,
   "metadata": {},
   "outputs": [],
   "source": [
    "#df_accuracies(wgm_accs)"
   ]
  },
  {
   "cell_type": "code",
   "execution_count": 104,
   "metadata": {},
   "outputs": [
    {
     "data": {
      "text/html": [
       "<div>\n",
       "<style scoped>\n",
       "    .dataframe tbody tr th:only-of-type {\n",
       "        vertical-align: middle;\n",
       "    }\n",
       "\n",
       "    .dataframe tbody tr th {\n",
       "        vertical-align: top;\n",
       "    }\n",
       "\n",
       "    .dataframe thead th {\n",
       "        text-align: right;\n",
       "    }\n",
       "</style>\n",
       "<table border=\"1\" class=\"dataframe\">\n",
       "  <thead>\n",
       "    <tr style=\"text-align: right;\">\n",
       "      <th></th>\n",
       "      <th>473.astar</th>\n",
       "      <th>471.omnetpp</th>\n",
       "      <th>429.mcf</th>\n",
       "    </tr>\n",
       "  </thead>\n",
       "  <tbody>\n",
       "    <tr>\n",
       "      <th>BO</th>\n",
       "      <td>0.00</td>\n",
       "      <td>27.53</td>\n",
       "      <td>70.78</td>\n",
       "    </tr>\n",
       "    <tr>\n",
       "      <th>ISB</th>\n",
       "      <td>89.42</td>\n",
       "      <td>89.17</td>\n",
       "      <td>76.82</td>\n",
       "    </tr>\n",
       "    <tr>\n",
       "      <th>ISB+BO</th>\n",
       "      <td>89.42</td>\n",
       "      <td>86.70</td>\n",
       "      <td>76.84</td>\n",
       "    </tr>\n",
       "  </tbody>\n",
       "</table>\n",
       "</div>"
      ],
      "text/plain": [
       "        473.astar  471.omnetpp  429.mcf\n",
       "BO           0.00        27.53    70.78\n",
       "ISB         89.42        89.17    76.82\n",
       "ISB+BO      89.42        86.70    76.84"
      ]
     },
     "execution_count": 104,
     "metadata": {},
     "output_type": "execute_result"
    }
   ],
   "source": [
    "df_accuracies(ls_accs)"
   ]
  },
  {
   "cell_type": "markdown",
   "metadata": {},
   "source": [
    "---\n",
    "# Coverage measurements\n",
    "Coverage = Percent increase of:\n",
    "- \\# of LLC load + RFO hits on a prefetcher\n",
    "- vs. # of LLC load + RFO hits on baseline (NoPrefetcher)\n",
    "- WGM: Take the weighted geometric mean of coverages for the given trace, using the simpoint weights.\n",
    "    - WGM coverage\n",
    "    - **TODO**\n",
    "- Largest simpoint: Only consider coveraeg of the largest (highest-weighted) simpoint.\n",
    "    - LS coverage\n",
    "    - **TODO**\n",
    "- **TODO**: Include Paper values\n",
    "- **TODO**: Increase code-reuse from IPC"
   ]
  }
 ],
 "metadata": {
  "interpreter": {
   "hash": "bd4ceb9d43119961c2ca444845453e6cb9b6d554d33f2e2d62e14020b8aaaf6d"
  },
  "kernelspec": {
   "display_name": "tensorflow",
   "language": "python",
   "name": "tensorflow"
  },
  "language_info": {
   "codemirror_mode": {
    "name": "ipython",
    "version": 3
   },
   "file_extension": ".py",
   "mimetype": "text/x-python",
   "name": "python",
   "nbconvert_exporter": "python",
   "pygments_lexer": "ipython3",
   "version": "3.9.6"
  }
 },
 "nbformat": 4,
 "nbformat_minor": 4
}
