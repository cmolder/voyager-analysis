{
 "cells": [
  {
   "cell_type": "markdown",
   "metadata": {},
   "source": [
    "# 20211012-simpoints\n",
    "Evaluate IPCs over simpoints for the base prefetchers."
   ]
  },
  {
   "cell_type": "code",
   "execution_count": 22,
   "metadata": {},
   "outputs": [],
   "source": [
    "import os\n",
    "import sys\n",
    "import glob\n",
    "from collections import defaultdict\n",
    "\n",
    "import numpy as np\n",
    "import pandas as pd\n",
    "from scipy import stats\n",
    "import attrdict\n",
    "import matplotlib.pyplot as plt"
   ]
  },
  {
   "cell_type": "markdown",
   "metadata": {},
   "source": [
    "---\n",
    "# User parameters.\n",
    "\n",
    "You can look at the simpoint-weights or the data to get the trace_id for the trace you want."
   ]
  },
  {
   "cell_type": "code",
   "execution_count": 23,
   "metadata": {},
   "outputs": [],
   "source": [
    "trace, trace_id = 'mcf', 429\n",
    "simpoints_dir = 'data/simpoint-weights/'\n",
    "results_dir = 'data/base/'"
   ]
  },
  {
   "cell_type": "markdown",
   "metadata": {},
   "source": [
    "---\n",
    "# Load simpoint weights and results."
   ]
  },
  {
   "cell_type": "code",
   "execution_count": 24,
   "metadata": {},
   "outputs": [],
   "source": [
    "def load_simpoint_weights(simpoints_dir, trace, trace_id):\n",
    "    \"\"\"Load simpoint weights for a given trace.\"\"\"\n",
    "    simpoints = pd.DataFrame(columns=['trace', 'weight'])\n",
    "    for f in glob.glob(os.path.join(simpoints_dir, '*.csv')):\n",
    "        df = pd.read_csv(f)\n",
    "        simpoints = pd.concat((simpoints, df))\n",
    "    tr_points = simpoints[simpoints.trace.str.contains(f'{trace_id}.{trace}')]\n",
    "    weights = np.array(tr_points.weight.array)\n",
    "    return weights"
   ]
  },
  {
   "cell_type": "code",
   "execution_count": 25,
   "metadata": {},
   "outputs": [
    {
     "name": "stdout",
     "output_type": "stream",
     "text": [
      "471.omnetpp simpoint weights: [0.0309654 0.954463  0.010929 ]\n"
     ]
    }
   ],
   "source": [
    "# Some spec06 traces (that we don't have) don't have an associated trace ID,\n",
    "# so for now I put 000 as their ID in simpoint-weights.\n",
    "#\n",
    "# TODO make a gap simpoint-weights will each trace's simpoints evenly weighted.\n",
    "simpoint_weights = load_simpoint_weights(simpoints_dir, trace, trace_id)\n",
    "print(f'{trace_id}.{trace} simpoint weights:', simpoint_weights)"
   ]
  },
  {
   "cell_type": "code",
   "execution_count": 26,
   "metadata": {},
   "outputs": [],
   "source": [
    "def parse_champsim_result_file(f, max_instruction_num=None, min_instruction_interval=0):\n",
    "    data = {\n",
    "        'instructions': [],\n",
    "        'cycles': [],\n",
    "        'heartbeat_ipcs': [],\n",
    "        'cumulative_ipcs': [],\n",
    "        'cumulative_sim_times': [],\n",
    "    }\n",
    "    \n",
    "    last_instruction = 0\n",
    "    warmups_completed = 0 # 0 = none, 1 = CPU, 2 = CPU + prefetch\n",
    "    for line in f:\n",
    "        line_tokens = line.split(' ')\n",
    "        \n",
    "        # Only append data after the prefetch warmup completes.\n",
    "        # DEBUG - Hardcoded stop condition (for now. It should stop\n",
    "        # automatically, but for some reason it doesn't).\n",
    "        if 'Warmup complete' in line:\n",
    "            warmups_completed += 1\n",
    "        \n",
    "        if 'Heartbeat' in line:\n",
    "            #print(line)\n",
    "            instructions = int(line_tokens[line_tokens.index('instructions:') + 1])\n",
    "            cycles = int(line_tokens[line_tokens.index('cycles:') + 1])\n",
    "            heartbeat_ipc = float(line_tokens[line_tokens.index('heartbeat') + 2])\n",
    "            cumulative_ipc = float(line_tokens[line_tokens.index('cumulative') + 2])\n",
    "            cumulative_sim_time = int(line_tokens[line_tokens.index('time:') + 1]) * 3600 \\\n",
    "                              + int(line_tokens[line_tokens.index('time:') + 3]) * 60 \\\n",
    "                              + int(line_tokens[line_tokens.index('time:') + 5]) \\\n",
    "\n",
    "            # DEBUG - Temporary fix until we can figure out why\n",
    "            # ChampSim runs too long.\n",
    "            if max_instruction_num and instructions >= max_instruction_num: \n",
    "                warmups_completed = 0\n",
    "            \n",
    "            if warmups_completed >= 2 and instructions - last_instruction > min_instruction_interval:\n",
    "                data['instructions'].append(instructions)\n",
    "                data['cycles'].append(cycles)\n",
    "                data['heartbeat_ipcs'].append(heartbeat_ipc)\n",
    "                data['cumulative_ipcs'].append(cumulative_ipc)\n",
    "                data['cumulative_sim_times'].append(cumulative_sim_time)\n",
    "                last_instruction = instructions\n",
    "    \n",
    "    return attrdict.AttrDict(data)\n",
    "\n",
    "def load_champsim_base_results(base, tracename, **kwargs):\n",
    "    base_path = base + f'/*{tracename}*.txt'\n",
    "    data = {}\n",
    "    print('\\nLoading ChampSim base prefetcher results from:', base_path)\n",
    "    variation_paths = glob.glob(base_path)\n",
    "    for path in variation_paths:\n",
    "        if '-bo' in os.path.basename(path):\n",
    "            variation_name = 'bo'\n",
    "        elif '-sisb_bo' in os.path.basename(path):\n",
    "            variation_name = 'sisb-bo'\n",
    "        elif '-sisb-' in os.path.basename(path):\n",
    "            variation_name = 'sisb'\n",
    "        elif '-no' in os.path.basename(path):\n",
    "            variation_name = 'no-prefetcher'\n",
    "        else:\n",
    "            continue\n",
    "            \n",
    "        print(f'Found variation: {variation_name}')\n",
    "        with open(path, 'r') as f:\n",
    "            data[variation_name] = parse_champsim_result_file(\n",
    "                f, **kwargs\n",
    "            )\n",
    "    return data"
   ]
  },
  {
   "cell_type": "code",
   "execution_count": 27,
   "metadata": {},
   "outputs": [
    {
     "name": "stdout",
     "output_type": "stream",
     "text": [
      "\n",
      "Loading ChampSim base prefetcher results from: data/base//*471.omnetpp-s0*.txt\n",
      "Found variation: no-prefetcher\n",
      "Found variation: bo\n",
      "Found variation: sisb\n",
      "Found variation: sisb-bo\n",
      "\n",
      "Loading ChampSim base prefetcher results from: data/base//*471.omnetpp-s1*.txt\n",
      "Found variation: no-prefetcher\n",
      "Found variation: bo\n",
      "Found variation: sisb-bo\n",
      "Found variation: sisb\n",
      "\n",
      "Loading ChampSim base prefetcher results from: data/base//*471.omnetpp-s2*.txt\n",
      "Found variation: no-prefetcher\n",
      "Found variation: bo\n",
      "Found variation: sisb\n",
      "Found variation: sisb-bo\n"
     ]
    }
   ],
   "source": [
    "base_data = []\n",
    "for i in range(len(simpoint_weights)):\n",
    "    base_data.append(load_champsim_base_results(\n",
    "        results_dir, f'{trace_id}.{trace}-s{i}', \n",
    "        max_instruction_num=500000000,\n",
    "        min_instruction_interval=3900000\n",
    "    ))"
   ]
  },
  {
   "cell_type": "markdown",
   "metadata": {},
   "source": [
    "---\n",
    "# Weighted geometric mean IPCs\n",
    "- Take the weighted geometric mean of IPCs for the given trace, using the simpoint weights."
   ]
  },
  {
   "cell_type": "code",
   "execution_count": 28,
   "metadata": {},
   "outputs": [
    {
     "name": "stdout",
     "output_type": "stream",
     "text": [
      "Per-simpoint cumulative IPCs:\n",
      "defaultdict(<function get_simpoint_ipcs.<locals>.<lambda> at 0x7fb2f448cdc0>, {'no-prefetcher': array([0.567865, 0.30875 , 0.448416], dtype=float32), 'bo': array([0.56744 , 0.325099, 0.445005], dtype=float32), 'sisb': array([0.608949, 0.456205, 0.468475], dtype=float32), 'sisb-bo': array([0.598534, 0.434406, 0.453764], dtype=float32)})\n",
      "\n",
      "WGM cumulative IPCs:\n",
      "{'no-prefetcher': 0.31594344701597943, 'bo': 0.3319168458074625, 'sisb': 0.46045202646582417, 'sisb-bo': 0.4389645536306793}\n",
      "\n",
      "WGM IPC speedups:\n",
      "{'no-prefetcher': 0.0, 'bo': 0.015973398791483073, 'sisb': 0.14450857944984474, 'sisb-bo': 0.1230211066146999}\n"
     ]
    }
   ],
   "source": [
    "def get_simpoint_ipcs(results):\n",
    "    \"\"\"Parse the results dictionary to get an array\n",
    "    of simpoint IPCs for each prefetcher. For prefetcher \n",
    "    p, simpoint_ipcs[p][i] is the cumulative IPC of p on\n",
    "    simpoint s_i.\n",
    "    \"\"\"\n",
    "    num_simpoints = len(results)\n",
    "    simpoint_ipcs = defaultdict(lambda : np.zeros(num_simpoints, dtype=np.float32)) # Simpoint IPCs organized by prefetcher.\n",
    "    for spidx, sp in enumerate(results):\n",
    "        for pf in sp:\n",
    "            # TODO handle missing / incomplete traces automatically \n",
    "            # (instead of using a debug if statement here to filter \n",
    "            # out unfinished runs)\n",
    "            simpoint_ipcs[pf][spidx] = sp[pf].cumulative_ipcs[-1] \n",
    "    return simpoint_ipcs\n",
    "\n",
    "\n",
    "def get_mean_ipcs(results, simpoint_weights):\n",
    "    \"\"\"Calculate the weighted geometric mean cumulative IPC \n",
    "    of each prefetcher over the simpoints.\n",
    "    \"\"\"\n",
    "    simpoint_ipcs = get_simpoint_ipcs(results)\n",
    "    mean_ipcs = {}\n",
    "    for pf in simpoint_ipcs:\n",
    "        mean_ipcs[pf] = stats.mstats.gmean(simpoint_ipcs[pf], weights=simpoint_weights)\n",
    "    return mean_ipcs\n",
    "\n",
    "\n",
    "def get_mean_ipc_speedups(results, simpoint_weights, baseline_prefetcher='no-prefetcher'):\n",
    "    \"\"\"Calcualte the weighted geometric mean cumulative IPC\n",
    "    of each prefetcher, then compare it against the weighted \n",
    "    geometric mean of the baseline prefetcher, to get speedup.\n",
    "    \n",
    "    TODO - is the above method correct?\n",
    "    \"\"\"\n",
    "    mean_ipcs = get_mean_ipcs(results, simpoint_weights)\n",
    "    mean_ipc_baseline = mean_ipcs[baseline_prefetcher]\n",
    "    mean_ipc_speedups = {}\n",
    "    for pf in mean_ipcs:\n",
    "        mean_ipc_speedups[pf] = mean_ipcs[pf] - mean_ipc_baseline\n",
    "    return mean_ipc_speedups\n",
    "        \n",
    "\n",
    "# Cumulative IPCs for each simpoint.\n",
    "simpoint_ipcs = get_simpoint_ipcs(base_data)\n",
    "print('Per-simpoint cumulative IPCs:')\n",
    "print(simpoint_ipcs)\n",
    "\n",
    "# Weighted geometric mean cumulative IPC, for all simpoints.\n",
    "mean_ipcs = get_mean_ipcs(base_data, simpoint_weights)\n",
    "print('\\nWGM cumulative IPCs:')\n",
    "print(mean_ipcs)\n",
    "\n",
    "# Weighted geometric mean IPC speedup, for all simpoints, vs. no prefetcher\n",
    "mean_ipc_speedups = get_mean_ipc_speedups(base_data, simpoint_weights)\n",
    "print('\\nWGM IPC speedups:')\n",
    "print(mean_ipc_speedups)"
   ]
  },
  {
   "cell_type": "markdown",
   "metadata": {},
   "source": [
    "## Plot (weighted geometric) mean IPCs"
   ]
  },
  {
   "cell_type": "code",
   "execution_count": 29,
   "metadata": {},
   "outputs": [],
   "source": [
    "trace_name = f'{trace_id}.{trace}'"
   ]
  },
  {
   "cell_type": "code",
   "execution_count": 30,
   "metadata": {},
   "outputs": [
    {
     "data": {
      "image/png": "[encoded data removed]",
      "text/plain": [
       "<Figure size 768x512 with 1 Axes>"
      ]
     },
     "metadata": {
      "needs_background": "light"
     },
     "output_type": "display_data"
    }
   ],
   "source": [
    "def plot_mean_ipcs(mean_ipcs, sweep_name='', trace_name=''):\n",
    "    \"\"\"Plot (weighted geometric) mean IPCs for a\n",
    "    list of prefetchers.\n",
    "    \"\"\"\n",
    "    fig, ax = plt.subplots(dpi=128)\n",
    "    ax.grid()\n",
    "    ax.set_axisbelow(True) # Plot grid under bars.\n",
    "    \n",
    "    labels = []\n",
    "    i = 0\n",
    "    for pf, pf_mean_ipc in mean_ipcs.items():\n",
    "        ax.bar(\n",
    "            i, pf_mean_ipc,\n",
    "            color = 'gray'\n",
    "        )\n",
    "        labels.append(pf)\n",
    "        i += 1\n",
    "        \n",
    "    ax.set_xticks(range(len(labels)))\n",
    "    ax.set_xticklabels(labels, rotation=40, ha='right')\n",
    "    \n",
    "    title = 'Cumulative IPCs'\n",
    "    if sweep_name:\n",
    "        title += f' ({sweep_name})'\n",
    "    if trace_name:\n",
    "        title += f' ({trace_name})'\n",
    "    ax.set_title(title)\n",
    "    ax.set_ylabel('Cumulative IPC')\n",
    "        \n",
    "plot_mean_ipcs(mean_ipcs, trace_name=trace_name)"
   ]
  },
  {
   "cell_type": "markdown",
   "metadata": {},
   "source": [
    "## Plot (weighted geometric) mean IPC speedups"
   ]
  },
  {
   "cell_type": "code",
   "execution_count": 31,
   "metadata": {},
   "outputs": [
    {
     "data": {
      "image/png": "[encoded data removed]",
      "text/plain": [
       "<Figure size 768x512 with 1 Axes>"
      ]
     },
     "metadata": {
      "needs_background": "light"
     },
     "output_type": "display_data"
    }
   ],
   "source": [
    "def plot_mean_ipc_speedups(mean_ipc_speedups, sweep_name='', trace_name=''):\n",
    "    \"\"\"Plot (weighted geometric) mean IPC speedups for a\n",
    "    list of prefetchers.\n",
    "    \"\"\"\n",
    "    fig, ax = plt.subplots(dpi=128)\n",
    "    ax.grid()\n",
    "    ax.set_axisbelow(True) # Plot grid under bars.\n",
    "    \n",
    "    labels = []\n",
    "    i = 0\n",
    "    for pf, pf_mean_ipc_speedup in mean_ipc_speedups.items():\n",
    "        if pf == 'no-prefetcher': # No need to plot. (it's the baseline)\n",
    "            continue\n",
    "            \n",
    "        ax.bar(\n",
    "            i, pf_mean_ipc_speedup * 100.,\n",
    "            color = 'gray'\n",
    "        )\n",
    "        labels.append(pf)\n",
    "        i += 1\n",
    "        \n",
    "    ax.set_xticks(range(len(labels)))\n",
    "    ax.set_xticklabels(labels, rotation=40, ha='right')\n",
    "    \n",
    "    title = 'IPC speedups'\n",
    "    if sweep_name:\n",
    "        title += f' ({sweep_name})'\n",
    "    if trace_name:\n",
    "        title += f' ({trace_name})'\n",
    "    ax.set_title(title)\n",
    "    ax.set_ylabel('IPC speedup (%)')\n",
    "        \n",
    "plot_mean_ipc_speedups(mean_ipc_speedups, trace_name=trace_name)"
   ]
  }
 ],
 "metadata": {
  "interpreter": {
   "hash": "bd4ceb9d43119961c2ca444845453e6cb9b6d554d33f2e2d62e14020b8aaaf6d"
  },
  "kernelspec": {
   "display_name": "Python 3.9.6 64-bit ('tensorflow': conda)",
   "name": "python3"
  },
  "language_info": {
   "codemirror_mode": {
    "name": "ipython",
    "version": 3
   },
   "file_extension": ".py",
   "mimetype": "text/x-python",
   "name": "python",
   "nbconvert_exporter": "python",
   "pygments_lexer": "ipython3",
   "version": "3.9.6"
  }
 },
 "nbformat": 4,
 "nbformat_minor": 4
}
