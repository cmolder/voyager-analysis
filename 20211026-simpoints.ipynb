{
 "cells": [
  {
   "cell_type": "markdown",
   "metadata": {},
   "source": [
    "# 20211012-simpoints\n",
    "Evaluate IPCs over simpoints for the base prefetchers."
   ]
  },
  {
   "cell_type": "code",
   "execution_count": 135,
   "metadata": {},
   "outputs": [],
   "source": [
    "import os\n",
    "import sys\n",
    "import glob\n",
    "from collections import defaultdict\n",
    "\n",
    "import numpy as np\n",
    "import pandas as pd\n",
    "from scipy import stats\n",
    "import attrdict\n",
    "import matplotlib.pyplot as plt"
   ]
  },
  {
   "cell_type": "markdown",
   "metadata": {
    "tags": []
   },
   "source": [
    "---\n",
    "# User parameters.\n",
    "\n",
    "You can look at the simpoint-weights or the data to get the trace_id for the trace you want."
   ]
  },
  {
   "cell_type": "code",
   "execution_count": 136,
   "metadata": {},
   "outputs": [],
   "source": [
    "trace, trace_id = 'mcf', 429\n",
    "simpoints_dir = 'data/simpoint-weights/'\n",
    "results_dir = 'data/base-prefetch1/'"
   ]
  },
  {
   "cell_type": "markdown",
   "metadata": {
    "tags": []
   },
   "source": [
    "---\n",
    "# Load simpoint weights and results."
   ]
  },
  {
   "cell_type": "code",
   "execution_count": 137,
   "metadata": {},
   "outputs": [],
   "source": [
    "def load_simpoint_weights(simpoints_dir, trace, trace_id):\n",
    "    \"\"\"Load simpoint weights for a given trace.\"\"\"\n",
    "    simpoints = pd.DataFrame(columns=['trace', 'weight'])\n",
    "    for f in glob.glob(os.path.join(simpoints_dir, '*.csv')):\n",
    "        df = pd.read_csv(f)\n",
    "        simpoints = pd.concat((simpoints, df))\n",
    "    tr_points = simpoints[simpoints.trace.str.contains(f'{trace_id}.{trace}')]\n",
    "    weights = np.array(tr_points.weight.array)\n",
    "    return weights"
   ]
  },
  {
   "cell_type": "code",
   "execution_count": 138,
   "metadata": {},
   "outputs": [
    {
     "name": "stdout",
     "output_type": "stream",
     "text": [
      "429.mcf simpoint weights: [0.154639 0.175258 0.329897]\n"
     ]
    }
   ],
   "source": [
    "# Some spec06 traces (that we don't have) don't have an associated trace ID,\n",
    "# so for now I put 000 as their ID in simpoint-weights.\n",
    "#\n",
    "# TODO make a gap simpoint-weights will each trace's simpoints evenly weighted.\n",
    "simpoint_weights = load_simpoint_weights(simpoints_dir, trace, trace_id)\n",
    "print(f'{trace_id}.{trace} simpoint weights:', simpoint_weights)"
   ]
  },
  {
   "cell_type": "code",
   "execution_count": 139,
   "metadata": {},
   "outputs": [],
   "source": [
    "def parse_champsim_result_file(f, max_instruction_num=None, min_instruction_interval=0):\n",
    "    data = {\n",
    "        'instructions': [],\n",
    "        'cycles': [],\n",
    "        'heartbeat_ipcs': [],\n",
    "        'cumulative_ipcs': [],\n",
    "        'cumulative_sim_times': [],\n",
    "    }\n",
    "    \n",
    "    last_instruction = 0\n",
    "    warmups_completed = 0 # 0 = none, 1 = CPU, 2 = CPU + prefetch\n",
    "    for line in f:\n",
    "        line_tokens = line.split(' ')\n",
    "        \n",
    "        # Only append data after the prefetch warmup completes.\n",
    "        # DEBUG - Hardcoded stop condition (for now. It should stop\n",
    "        # automatically, but for some reason it doesn't).\n",
    "        if 'Warmup complete' in line:\n",
    "            warmups_completed += 1\n",
    "        \n",
    "        if 'Heartbeat' in line:\n",
    "            #print(line)\n",
    "            instructions = int(line_tokens[line_tokens.index('instructions:') + 1])\n",
    "            cycles = int(line_tokens[line_tokens.index('cycles:') + 1])\n",
    "            heartbeat_ipc = float(line_tokens[line_tokens.index('heartbeat') + 2])\n",
    "            cumulative_ipc = float(line_tokens[line_tokens.index('cumulative') + 2])\n",
    "            cumulative_sim_time = int(line_tokens[line_tokens.index('time:') + 1]) * 3600 \\\n",
    "                              + int(line_tokens[line_tokens.index('time:') + 3]) * 60 \\\n",
    "                              + int(line_tokens[line_tokens.index('time:') + 5]) \\\n",
    "\n",
    "            # DEBUG - Temporary fix until we can figure out why\n",
    "            # ChampSim runs too long.\n",
    "            if max_instruction_num and instructions >= max_instruction_num: \n",
    "                warmups_completed = 0\n",
    "            \n",
    "            if warmups_completed >= 2 and instructions - last_instruction > min_instruction_interval:\n",
    "                data['instructions'].append(instructions)\n",
    "                data['cycles'].append(cycles)\n",
    "                data['heartbeat_ipcs'].append(heartbeat_ipc)\n",
    "                data['cumulative_ipcs'].append(cumulative_ipc)\n",
    "                data['cumulative_sim_times'].append(cumulative_sim_time)\n",
    "                last_instruction = instructions\n",
    "    \n",
    "    return attrdict.AttrDict(data)\n",
    "\n",
    "def load_champsim_base_results(base, tracename, **kwargs):\n",
    "    base_path = base + f'/*{tracename}*.txt'\n",
    "    data = {}\n",
    "    print('\\nLoading ChampSim base prefetcher results from:', base_path)\n",
    "    variation_paths = sorted(glob.glob(base_path))\n",
    "    for path in variation_paths:\n",
    "        if '-bo' in os.path.basename(path):\n",
    "            variation_name = 'bo'\n",
    "        elif '-sisb_bo' in os.path.basename(path):\n",
    "            variation_name = 'sisb-bo'\n",
    "        elif '-sisb-' in os.path.basename(path):\n",
    "            variation_name = 'sisb'\n",
    "        elif '-no' in os.path.basename(path):\n",
    "            variation_name = 'no-prefetcher'\n",
    "        else:\n",
    "            continue\n",
    "            \n",
    "        print(f'Found variation: {variation_name}')\n",
    "        with open(path, 'r') as f:\n",
    "            data[variation_name] = parse_champsim_result_file(\n",
    "                f, **kwargs\n",
    "            )\n",
    "    return data"
   ]
  },
  {
   "cell_type": "code",
   "execution_count": 140,
   "metadata": {},
   "outputs": [
    {
     "name": "stdout",
     "output_type": "stream",
     "text": [
      "\n",
      "Loading ChampSim base prefetcher results from: data/base-prefetch1//*429.mcf-s0*.txt\n",
      "Found variation: bo\n",
      "Found variation: no-prefetcher\n",
      "Found variation: sisb\n",
      "Found variation: sisb-bo\n",
      "\n",
      "Loading ChampSim base prefetcher results from: data/base-prefetch1//*429.mcf-s1*.txt\n",
      "Found variation: bo\n",
      "Found variation: no-prefetcher\n",
      "Found variation: sisb\n",
      "Found variation: sisb-bo\n",
      "\n",
      "Loading ChampSim base prefetcher results from: data/base-prefetch1//*429.mcf-s2*.txt\n",
      "Found variation: bo\n",
      "Found variation: no-prefetcher\n",
      "Found variation: sisb\n",
      "Found variation: sisb-bo\n"
     ]
    }
   ],
   "source": [
    "base_data = []\n",
    "for i in range(len(simpoint_weights)):\n",
    "    base_data.append(load_champsim_base_results(\n",
    "        results_dir, f'{trace_id}.{trace}-s{i}', \n",
    "        max_instruction_num=500000000,\n",
    "        min_instruction_interval=3900000\n",
    "    ))"
   ]
  },
  {
   "cell_type": "markdown",
   "metadata": {},
   "source": [
    "---\n",
    "# Weighted geometric mean IPCs\n",
    "- Take the weighted geometric mean of IPCs for the given trace, using the simpoint weights."
   ]
  },
  {
   "cell_type": "code",
   "execution_count": 141,
   "metadata": {},
   "outputs": [
    {
     "name": "stdout",
     "output_type": "stream",
     "text": [
      "Per-simpoint cumulative IPCs:\n",
      "defaultdict(<function get_simpoint_ipcs.<locals>.<lambda> at 0x7f772d13d700>, {'bo': array([0.0817277, 0.0647218, 0.0938706], dtype=float32), 'no-prefetcher': array([0.0817277, 0.0647218, 0.0938706], dtype=float32), 'sisb': array([0.0966384, 0.0851135, 0.118596 ], dtype=float32), 'sisb-bo': array([0.0966565, 0.0851135, 0.118649 ], dtype=float32)})\n",
      "\n",
      "WGM cumulative IPCs:\n",
      "{'bo': 0.08232592211195097, 'no-prefetcher': 0.08232592211195097, 'sisb': 0.10350476126986077, 'sisb-bo': 0.10353242144867557}\n",
      "\n",
      "WGM IPC speedups:\n",
      "{'bo': 0.0, 'no-prefetcher': 0.0, 'sisb': 0.2572559242314607, 'sisb-bo': 0.25759199470854877}\n"
     ]
    }
   ],
   "source": [
    "def get_simpoint_ipcs(results):\n",
    "    \"\"\"Parse the results dictionary to get an array\n",
    "    of simpoint IPCs for each prefetcher. For prefetcher \n",
    "    p, simpoint_ipcs[p][i] is the cumulative IPC of p on\n",
    "    simpoint s_i.\n",
    "    \"\"\"\n",
    "    num_simpoints = len(results)\n",
    "    simpoint_ipcs = defaultdict(lambda : np.zeros(num_simpoints, dtype=np.float32)) # Simpoint IPCs, indexed by prefetcher.\n",
    "    for spidx, sp in enumerate(results):\n",
    "        for pf in sp:\n",
    "            # TODO handle missing / incomplete traces automatically \n",
    "            # (instead of using a debug if statement here to filter \n",
    "            # out unfinished runs)\n",
    "            simpoint_ipcs[pf][spidx] = sp[pf].cumulative_ipcs[-1] \n",
    "    return simpoint_ipcs\n",
    "\n",
    "\n",
    "def get_mean_ipcs(results, simpoint_weights):\n",
    "    \"\"\"Calculate the weighted geometric mean cumulative IPC \n",
    "    of each prefetcher over the simpoints.\n",
    "    \"\"\"\n",
    "    simpoint_ipcs = get_simpoint_ipcs(results)\n",
    "    mean_ipcs = {}\n",
    "    for pf in simpoint_ipcs:\n",
    "        mean_ipcs[pf] = stats.mstats.gmean(simpoint_ipcs[pf], weights=simpoint_weights)\n",
    "    return mean_ipcs\n",
    "\n",
    "\n",
    "def get_mean_ipc_speedups(results, simpoint_weights, baseline_prefetcher='no-prefetcher'):\n",
    "    \"\"\"Calcualte the weighted geometric mean cumulative IPC\n",
    "    of each prefetcher, then get the relative IPC against the weighted \n",
    "    geometric mean of the baseline prefetcher, to get speedup.\n",
    "    \n",
    "    TODO - is the above method correct?\n",
    "    \"\"\"\n",
    "    simpoint_ipcs = get_simpoint_ipcs(results)\n",
    "    mean_ipc_speedups = {}\n",
    "    \n",
    "    for pf in mean_ipcs:\n",
    "        rel_ipcs = 1 + ((simpoint_ipcs[pf] - simpoint_ipcs[baseline_prefetcher])/simpoint_ipcs[baseline_prefetcher])\n",
    "        mean_rel_ipc = stats.mstats.gmean(rel_ipcs, weights=simpoint_weights)\n",
    "        mean_ipc_speedups[pf] = mean_rel_ipc - 1.\n",
    "    return mean_ipc_speedups\n",
    "        \n",
    "\n",
    "# Cumulative IPCs for each simpoint.\n",
    "simpoint_ipcs = get_simpoint_ipcs(base_data)\n",
    "print('Per-simpoint cumulative IPCs:')\n",
    "print(simpoint_ipcs)\n",
    "\n",
    "# Weighted geometric mean cumulative IPC, for all simpoints.\n",
    "mean_ipcs = get_mean_ipcs(base_data, simpoint_weights)\n",
    "print('\\nWGM cumulative IPCs:')\n",
    "print(mean_ipcs)\n",
    "\n",
    "# Weighted geometric mean IPC speedup, for all simpoints, vs. no prefetcher\n",
    "mean_ipc_speedups = get_mean_ipc_speedups(base_data, simpoint_weights)\n",
    "print('\\nWGM IPC speedups:')\n",
    "print(mean_ipc_speedups)"
   ]
  },
  {
   "cell_type": "markdown",
   "metadata": {},
   "source": [
    "## Plot (weighted geometric) mean IPCs"
   ]
  },
  {
   "cell_type": "code",
   "execution_count": 142,
   "metadata": {},
   "outputs": [],
   "source": [
    "trace_name = f'{trace_id}.{trace}'"
   ]
  },
  {
   "cell_type": "code",
   "execution_count": 143,
   "metadata": {},
   "outputs": [
    {
     "data": {
      "image/png": "[encoded data removed]",
      "text/plain": [
       "<Figure size 768x512 with 1 Axes>"
      ]
     },
     "metadata": {
      "needs_background": "light"
     },
     "output_type": "display_data"
    }
   ],
   "source": [
    "def plot_mean_ipcs(mean_ipcs, sweep_name='', trace_name=''):\n",
    "    \"\"\"Plot (weighted geometric) mean IPCs for a\n",
    "    list of prefetchers.\n",
    "    \"\"\"\n",
    "    fig, ax = plt.subplots(dpi=128)\n",
    "    ax.grid()\n",
    "    ax.set_axisbelow(True) # Plot grid under bars.\n",
    "    \n",
    "    labels = []\n",
    "    i = 0\n",
    "    for pf, pf_mean_ipc in mean_ipcs.items():\n",
    "        ax.bar(\n",
    "            i, pf_mean_ipc,\n",
    "            color = 'gray'\n",
    "        )\n",
    "        labels.append(pf)\n",
    "        i += 1\n",
    "        \n",
    "    ax.set_xticks(range(len(labels)))\n",
    "    ax.set_xticklabels(labels, rotation=40, ha='right')\n",
    "    \n",
    "    title = 'Cumulative IPCs'\n",
    "    if sweep_name:\n",
    "        title += f' ({sweep_name})'\n",
    "    if trace_name:\n",
    "        title += f' ({trace_name})'\n",
    "    ax.set_title(title)\n",
    "    ax.set_ylabel('Cumulative IPC')\n",
    "        \n",
    "plot_mean_ipcs(mean_ipcs, trace_name=trace_name)"
   ]
  },
  {
   "cell_type": "markdown",
   "metadata": {},
   "source": [
    "## Plot (weighted geometric) mean IPC speedups"
   ]
  },
  {
   "cell_type": "code",
   "execution_count": 144,
   "metadata": {},
   "outputs": [
    {
     "data": {
      "image/png": "[encoded data removed]",
      "text/plain": [
       "<Figure size 768x512 with 1 Axes>"
      ]
     },
     "metadata": {
      "needs_background": "light"
     },
     "output_type": "display_data"
    }
   ],
   "source": [
    "def plot_mean_ipc_speedups(mean_ipc_speedups, sweep_name='', trace_name=''):\n",
    "    \"\"\"Plot (weighted geometric) mean IPC speedups for a\n",
    "    list of prefetchers.\n",
    "    \"\"\"\n",
    "    fig, ax = plt.subplots(dpi=128)\n",
    "    ax.grid()\n",
    "    ax.set_axisbelow(True) # Plot grid under bars.\n",
    "    \n",
    "    labels = []\n",
    "    i = 0\n",
    "    for pf, pf_mean_ipc_speedup in mean_ipc_speedups.items():\n",
    "        if pf == 'no-prefetcher': # No need to plot. (it's the baseline)\n",
    "            continue\n",
    "            \n",
    "        ax.bar(\n",
    "            i, pf_mean_ipc_speedup * 100.,\n",
    "            color = 'gray'\n",
    "        )\n",
    "        labels.append(pf)\n",
    "        i += 1\n",
    "        \n",
    "    ax.set_xticks(range(len(labels)))\n",
    "    ax.set_xticklabels(labels, rotation=40, ha='right')\n",
    "    \n",
    "    title = 'IPC speedups'\n",
    "    if sweep_name:\n",
    "        title += f' ({sweep_name})'\n",
    "    if trace_name:\n",
    "        title += f' ({trace_name})'\n",
    "    ax.set_title(title)\n",
    "    ax.set_ylabel('IPC speedup (%)')\n",
    "        \n",
    "plot_mean_ipc_speedups(mean_ipc_speedups, trace_name=trace_name)"
   ]
  },
  {
   "cell_type": "code",
   "execution_count": 145,
   "metadata": {},
   "outputs": [
    {
     "data": {
      "text/html": [
       "<div>\n",
       "<style scoped>\n",
       "    .dataframe tbody tr th:only-of-type {\n",
       "        vertical-align: middle;\n",
       "    }\n",
       "\n",
       "    .dataframe tbody tr th {\n",
       "        vertical-align: top;\n",
       "    }\n",
       "\n",
       "    .dataframe thead th {\n",
       "        text-align: right;\n",
       "    }\n",
       "</style>\n",
       "<table border=\"1\" class=\"dataframe\">\n",
       "  <thead>\n",
       "    <tr style=\"text-align: right;\">\n",
       "      <th></th>\n",
       "      <th>IPC Speedup (%)</th>\n",
       "    </tr>\n",
       "  </thead>\n",
       "  <tbody>\n",
       "    <tr>\n",
       "      <th>bo</th>\n",
       "      <td>0.00</td>\n",
       "    </tr>\n",
       "    <tr>\n",
       "      <th>sisb</th>\n",
       "      <td>25.73</td>\n",
       "    </tr>\n",
       "    <tr>\n",
       "      <th>sisb-bo</th>\n",
       "      <td>25.76</td>\n",
       "    </tr>\n",
       "  </tbody>\n",
       "</table>\n",
       "</div>"
      ],
      "text/plain": [
       "         IPC Speedup (%)\n",
       "bo                  0.00\n",
       "sisb               25.73\n",
       "sisb-bo            25.76"
      ]
     },
     "execution_count": 145,
     "metadata": {},
     "output_type": "execute_result"
    }
   ],
   "source": [
    "def df_mean_ipc_speedups(mean_ipc_speedups):\n",
    "    mean_ipc_speedups_ = {k : round(v * 100., 2) for k, v in mean_ipc_speedups.items()}\n",
    "    mean_ipc_speedups_.pop('no-prefetcher', None)\n",
    "    df = pd.DataFrame.from_dict(\n",
    "        mean_ipc_speedups_, orient='index',\n",
    "        columns=['IPC Speedup (%)']\n",
    "    )\n",
    "    return df\n",
    "    \n",
    "df = df_mean_ipc_speedups(mean_ipc_speedups)\n",
    "df"
   ]
  }
 ],
 "metadata": {
  "interpreter": {
   "hash": "bd4ceb9d43119961c2ca444845453e6cb9b6d554d33f2e2d62e14020b8aaaf6d"
  },
  "kernelspec": {
   "display_name": "tensorflow",
   "language": "python",
   "name": "tensorflow"
  },
  "language_info": {
   "codemirror_mode": {
    "name": "ipython",
    "version": 3
   },
   "file_extension": ".py",
   "mimetype": "text/x-python",
   "name": "python",
   "nbconvert_exporter": "python",
   "pygments_lexer": "ipython3",
   "version": "3.9.6"
  }
 },
 "nbformat": 4,
 "nbformat_minor": 4
}
