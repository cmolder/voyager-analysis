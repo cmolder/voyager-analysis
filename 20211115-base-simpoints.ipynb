{
 "cells": [
  {
   "cell_type": "markdown",
   "metadata": {},
   "source": [
    "# 20211012-base-simpoints\n",
    "Evaluate IPCs, accuracy, and coverage over individual simpoints for the base prefetchers, on one trace."
   ]
  },
  {
   "cell_type": "code",
   "execution_count": 61,
   "metadata": {},
   "outputs": [],
   "source": [
    "import os\n",
    "import sys\n",
    "import glob\n",
    "from collections import defaultdict\n",
    "\n",
    "import numpy as np\n",
    "import pandas as pd\n",
    "from scipy import stats\n",
    "import attrdict\n",
    "import matplotlib.pyplot as plt\n",
    "\n",
    "from utils.load import load_simpoint_weights, parse_champsim_result_file, load_champsim_base_results, parse_paper_result_file"
   ]
  },
  {
   "cell_type": "markdown",
   "metadata": {
    "tags": []
   },
   "source": [
    "---\n",
    "# User parameters.\n",
    "\n",
    "You can look at the simpoint-weights or the data to get the trace_id for the trace you want."
   ]
  },
  {
   "cell_type": "code",
   "execution_count": 62,
   "metadata": {},
   "outputs": [],
   "source": [
    "trace = '473.astar'\n",
    "\n",
    "simpoints_dir = 'data/simpoint-weights/'\n",
    "results_dir = 'data/base-prefetch1-fixedcache-500m/'\n",
    "max_instruction_num = 500 # in millions\n",
    "min_instruction_interval = 0 # in millions (this does not affect IPC results much)\n",
    "verbose = True"
   ]
  },
  {
   "cell_type": "markdown",
   "metadata": {
    "tags": []
   },
   "source": [
    "---\n",
    "# Load simpoint weights and results."
   ]
  },
  {
   "cell_type": "code",
   "execution_count": 63,
   "metadata": {},
   "outputs": [
    {
     "name": "stdout",
     "output_type": "stream",
     "text": [
      "Simpoint weights:\n",
      "[0.452174 0.162319 0.22029 ] largest = s0\n"
     ]
    }
   ],
   "source": [
    "simpoint_weights = load_simpoint_weights(simpoints_dir, trace)\n",
    "\n",
    "print('Simpoint weights:')\n",
    "print(f'{simpoint_weights} largest = s{simpoint_weights.argmax()}') # Why don't mcf weights add to 100?"
   ]
  },
  {
   "cell_type": "code",
   "execution_count": 64,
   "metadata": {},
   "outputs": [
    {
     "name": "stdout",
     "output_type": "stream",
     "text": [
      "Loading results from: data/base-prefetch1-fixedcache-500m/*473.astar-s0*.txt\n",
      "    Found variations: BO NoPrefetcher ISB ISB+BO\n",
      "Loading results from: data/base-prefetch1-fixedcache-500m/*473.astar-s1*.txt\n",
      "    Found variations: BO NoPrefetcher ISB ISB+BO\n",
      "Loading results from: data/base-prefetch1-fixedcache-500m/*473.astar-s2*.txt\n",
      "    Found variations: BO NoPrefetcher ISB ISB+BO\n"
     ]
    }
   ],
   "source": [
    "results = []\n",
    "for i in range(len(simpoint_weights)):\n",
    "    results.append(load_champsim_base_results(\n",
    "        results_dir, f'{trace}-s{i}',\n",
    "        max_instruction_num=max_instruction_num * 1000000,\n",
    "        min_instruction_interval=int(min_instruction_interval * 1000000),\n",
    "        verbose=verbose\n",
    "    ))"
   ]
  },
  {
   "cell_type": "markdown",
   "metadata": {},
   "source": [
    "---\n",
    "# Plotting / table helpers\n",
    "\n",
    "**TODO** Break out into a utils file"
   ]
  },
  {
   "cell_type": "code",
   "execution_count": 65,
   "metadata": {},
   "outputs": [],
   "source": [
    "def plot_results(data, title, y_label, \n",
    "                          subtitle=None, factor = 1., ymin=None, ymax=None,\n",
    "                          simpoint_weights=None):\n",
    "    \"\"\"Plot **per-simpoint** data for a\n",
    "    list of prefetchers, on one trace.\n",
    "    \"\"\"\n",
    "    fig, ax = plt.subplots(dpi=128)\n",
    "    num_simpoints = len(data[list(data.keys())[0]])\n",
    "    #ax.grid()\n",
    "    #ax.set_axisbelow(True) # Plot grid under bars.\n",
    "    \n",
    "    step_size = 0.1\n",
    "    width = 0.075\n",
    "    \n",
    "    for i in range(num_simpoints):\n",
    "        ax.bar(i, data['BO'][i] * factor, \n",
    "               color='C0', width = width, \n",
    "               label='BO' if i == 0 else ''\n",
    "        )\n",
    "        ax.bar(i + step_size, data['ISB'][i] * factor, \n",
    "               color='C1', width=width, \n",
    "               label='ISB' if i == 0 else ''\n",
    "        )\n",
    "\n",
    "    ax.legend()\n",
    "    tick_locs = [i + 0.05 for i in range(0, num_simpoints)]\n",
    "    tick_labels = [f's{i}' for i in range(1, num_simpoints + 1)]\n",
    "    if simpoint_weights is not None:\n",
    "        for i, w in enumerate(simpoint_weights):\n",
    "            tick_labels[i] += f' ({w:.3f})'\n",
    "\n",
    "    ax.set_xticks(tick_locs)\n",
    "    ax.set_xticklabels(tick_labels)\n",
    "    \n",
    "    if subtitle:\n",
    "        title += f' ({subtitle})'\n",
    "    ax.set_title(title)\n",
    "    ax.set_ylabel(y_label)\n",
    "    ax.set_ylim(ymin=ymin, ymax=ymax)"
   ]
  },
  {
   "cell_type": "code",
   "execution_count": 66,
   "metadata": {},
   "outputs": [],
   "source": [
    "def df_results(data, pop=[], factor=1.):\n",
    "    data_ = {}\n",
    "    for k in data.keys():\n",
    "        data_[k] = [round(v * factor, 2) for v in data[k]]\n",
    "    df = pd.DataFrame.from_dict(data_)\n",
    "    df = df.drop(labels=pop, axis=1)\n",
    "    return df"
   ]
  },
  {
   "cell_type": "markdown",
   "metadata": {},
   "source": [
    "# IPC measurements\n",
    "IPC = Instructions per cycle"
   ]
  },
  {
   "cell_type": "code",
   "execution_count": 67,
   "metadata": {},
   "outputs": [],
   "source": [
    "def get_simpoint_ipcs(results):\n",
    "    \"\"\"Parse the results dictionary to get an array\n",
    "    of simpoint IPCs for each prefetcher. For prefetcher \n",
    "    p, simpoint_ipcs[p][i] is thstatisticse cumulative IPC of p on\n",
    "    simpoint s_i.\n",
    "    \"\"\"\n",
    "    num_simpoints = len(results)\n",
    "    simpoint_ipcs = defaultdict(lambda : np.zeros(num_simpoints, dtype=np.float32)) # Simpoint IPCs, indexed by prefetcher.\n",
    "    for spidx, sp in enumerate(results):\n",
    "        for pf in sp:\n",
    "            # TODO handle missing / incomplete traces automatically \n",
    "            # (instead of using a debug if statement here to filter \n",
    "            # out unfinished runs)\n",
    "            simpoint_ipcs[pf][spidx] = sp[pf].cumulative_ipcs[-1] \n",
    "    return simpoint_ipcs"
   ]
  },
  {
   "cell_type": "code",
   "execution_count": 68,
   "metadata": {},
   "outputs": [
    {
     "data": {
      "text/plain": [
       "defaultdict(<function __main__.get_simpoint_ipcs.<locals>.<lambda>()>,\n",
       "            {'BO': array([1.0578  , 0.477799, 0.116522], dtype=float32),\n",
       "             'NoPrefetcher': array([1.0578  , 0.476514, 0.115082], dtype=float32),\n",
       "             'ISB': array([1.15546 , 0.501984, 0.162398], dtype=float32),\n",
       "             'ISB+BO': array([1.15546 , 0.502212, 0.162402], dtype=float32)})"
      ]
     },
     "execution_count": 68,
     "metadata": {},
     "output_type": "execute_result"
    }
   ],
   "source": [
    "simpoint_ipcs = get_simpoint_ipcs(results)\n",
    "simpoint_ipcs"
   ]
  },
  {
   "cell_type": "markdown",
   "metadata": {},
   "source": [
    "#### Cumulative IPCs"
   ]
  },
  {
   "cell_type": "code",
   "execution_count": 69,
   "metadata": {},
   "outputs": [
    {
     "data": {
      "image/png": "[encoded data removed]",
      "text/plain": [
       "<Figure size 768x512 with 1 Axes>"
      ]
     },
     "metadata": {
      "needs_background": "light"
     },
     "output_type": "display_data"
    }
   ],
   "source": [
    "plot_results(\n",
    "    simpoint_ipcs, 'Cumulative IPCs', 'IPC',\n",
    "    subtitle=trace,\n",
    "    simpoint_weights=simpoint_weights\n",
    ")"
   ]
  },
  {
   "cell_type": "code",
   "execution_count": 70,
   "metadata": {},
   "outputs": [
    {
     "data": {
      "text/html": [
       "<div>\n",
       "<style scoped>\n",
       "    .dataframe tbody tr th:only-of-type {\n",
       "        vertical-align: middle;\n",
       "    }\n",
       "\n",
       "    .dataframe tbody tr th {\n",
       "        vertical-align: top;\n",
       "    }\n",
       "\n",
       "    .dataframe thead th {\n",
       "        text-align: right;\n",
       "    }\n",
       "</style>\n",
       "<table border=\"1\" class=\"dataframe\">\n",
       "  <thead>\n",
       "    <tr style=\"text-align: right;\">\n",
       "      <th></th>\n",
       "      <th>BO</th>\n",
       "      <th>NoPrefetcher</th>\n",
       "      <th>ISB</th>\n",
       "      <th>ISB+BO</th>\n",
       "    </tr>\n",
       "  </thead>\n",
       "  <tbody>\n",
       "    <tr>\n",
       "      <th>0</th>\n",
       "      <td>1.06</td>\n",
       "      <td>1.06</td>\n",
       "      <td>1.16</td>\n",
       "      <td>1.16</td>\n",
       "    </tr>\n",
       "    <tr>\n",
       "      <th>1</th>\n",
       "      <td>0.48</td>\n",
       "      <td>0.48</td>\n",
       "      <td>0.50</td>\n",
       "      <td>0.50</td>\n",
       "    </tr>\n",
       "    <tr>\n",
       "      <th>2</th>\n",
       "      <td>0.12</td>\n",
       "      <td>0.12</td>\n",
       "      <td>0.16</td>\n",
       "      <td>0.16</td>\n",
       "    </tr>\n",
       "  </tbody>\n",
       "</table>\n",
       "</div>"
      ],
      "text/plain": [
       "     BO  NoPrefetcher   ISB  ISB+BO\n",
       "0  1.06          1.06  1.16    1.16\n",
       "1  0.48          0.48  0.50    0.50\n",
       "2  0.12          0.12  0.16    0.16"
      ]
     },
     "execution_count": 70,
     "metadata": {},
     "output_type": "execute_result"
    }
   ],
   "source": [
    "df_results(simpoint_ipcs)"
   ]
  },
  {
   "cell_type": "markdown",
   "metadata": {
    "tags": []
   },
   "source": [
    "---\n",
    "# Accuracy measurements\n",
    "Accuracy = useful / (useful + useless) prefetches"
   ]
  },
  {
   "cell_type": "code",
   "execution_count": 71,
   "metadata": {},
   "outputs": [],
   "source": [
    "def get_simpoint_accuracies(results):\n",
    "    \"\"\"Parse the results dictionary to get an array\n",
    "    of simpoint accuracies for each prefetcher. For prefetcher \n",
    "    p, simpoint_accs[p][i] is the accuracy of p on\n",
    "    simpoint s_i.\n",
    "    \"\"\"\n",
    "    num_simpoints = len(results)\n",
    "    simpoint_accs = defaultdict(lambda : np.zeros(num_simpoints, dtype=np.float32)) # Simpoint IPCs, indexed by prefetcher.\n",
    "    for spidx, sp in enumerate(results):\n",
    "        for pf in sp:\n",
    "            # TODO handle missing / incomplete traces automatically \n",
    "            # (instead of using a debug if statement here to filter \n",
    "            # out unfinished runs)\n",
    "            simpoint_accs[pf][spidx] = sp[pf].accuracy\n",
    "    return simpoint_accs"
   ]
  },
  {
   "cell_type": "code",
   "execution_count": 72,
   "metadata": {},
   "outputs": [],
   "source": [
    "simpoint_accs = get_simpoint_accuracies(results)"
   ]
  },
  {
   "cell_type": "code",
   "execution_count": 73,
   "metadata": {},
   "outputs": [
    {
     "data": {
      "image/png": "[encoded data removed]",
      "text/plain": [
       "<Figure size 768x512 with 1 Axes>"
      ]
     },
     "metadata": {
      "needs_background": "light"
     },
     "output_type": "display_data"
    }
   ],
   "source": [
    "plot_results(\n",
    "    simpoint_accs, 'Accuracy', 'Accuracy (%)', \n",
    "    subtitle=trace,\n",
    "    factor=100,\n",
    "    ymin=0, ymax=100,\n",
    "    simpoint_weights=simpoint_weights\n",
    ")"
   ]
  },
  {
   "cell_type": "code",
   "execution_count": 74,
   "metadata": {},
   "outputs": [
    {
     "data": {
      "text/html": [
       "<div>\n",
       "<style scoped>\n",
       "    .dataframe tbody tr th:only-of-type {\n",
       "        vertical-align: middle;\n",
       "    }\n",
       "\n",
       "    .dataframe tbody tr th {\n",
       "        vertical-align: top;\n",
       "    }\n",
       "\n",
       "    .dataframe thead th {\n",
       "        text-align: right;\n",
       "    }\n",
       "</style>\n",
       "<table border=\"1\" class=\"dataframe\">\n",
       "  <thead>\n",
       "    <tr style=\"text-align: right;\">\n",
       "      <th></th>\n",
       "      <th>BO</th>\n",
       "      <th>ISB</th>\n",
       "      <th>ISB+BO</th>\n",
       "    </tr>\n",
       "  </thead>\n",
       "  <tbody>\n",
       "    <tr>\n",
       "      <th>0</th>\n",
       "      <td>0.00</td>\n",
       "      <td>10.58</td>\n",
       "      <td>10.58</td>\n",
       "    </tr>\n",
       "    <tr>\n",
       "      <th>1</th>\n",
       "      <td>14.97</td>\n",
       "      <td>25.67</td>\n",
       "      <td>25.65</td>\n",
       "    </tr>\n",
       "    <tr>\n",
       "      <th>2</th>\n",
       "      <td>30.98</td>\n",
       "      <td>3.91</td>\n",
       "      <td>3.94</td>\n",
       "    </tr>\n",
       "  </tbody>\n",
       "</table>\n",
       "</div>"
      ],
      "text/plain": [
       "      BO    ISB  ISB+BO\n",
       "0   0.00  10.58   10.58\n",
       "1  14.97  25.67   25.65\n",
       "2  30.98   3.91    3.94"
      ]
     },
     "execution_count": 74,
     "metadata": {},
     "output_type": "execute_result"
    }
   ],
   "source": [
    "df_results(simpoint_accs, factor=100, pop=['NoPrefetcher'])"
   ]
  },
  {
   "cell_type": "markdown",
   "metadata": {},
   "source": [
    "---\n",
    "# Coverage measurements\n",
    "Coverage = Percent increase of:\n",
    "- \\# of LLC load + RFO hits on a prefetcher\n",
    "- vs. # of LLC load + RFO hits on baseline (NoPrefetcher)"
   ]
  },
  {
   "cell_type": "code",
   "execution_count": 75,
   "metadata": {},
   "outputs": [],
   "source": [
    "def get_simpoint_coverages(results, baseline_prefetcher='NoPrefetcher'):\n",
    "    \"\"\"Parse the results dictionary to get an array\n",
    "    of simpoint coverages for each prefetcher. For prefetcher \n",
    "    p, simpoint_covs[p][i] is the co471.omnetppverage of p on\n",
    "    simpoint s_i w.r.t. the baseline.\n",
    "    \"\"\"\n",
    "    num_simpoints = len(results)\n",
    "    simpoint_covs = defaultdict(lambda : np.zeros(num_simpoints, dtype=np.float32)) # Simpoint IPCs, indexed by prefetcher.\n",
    "    for spidx, sp in enumerate(results):\n",
    "        base_hits = sp[baseline_prefetcher].llc_load_hits + sp[baseline_prefetcher].llc_rfo_hits\n",
    "        \n",
    "        #print(spidx)\n",
    "        for pf in sp:\n",
    "            #if pf == baseline_prefetcher:\n",
    "            #    continue\n",
    "            \n",
    "            pf_hits = sp[pf].llc_load_hits + sp[pf].llc_rfo_hits\n",
    "            \n",
    "            \n",
    "            # TODO handle missing / incomplete traces automatically \n",
    "            # (instead of using a debug if statement here to filter \n",
    "            # out unfinished runs)\n",
    "            simpoint_covs[pf][spidx] = (pf_hits - base_hits) / base_hits\n",
    "            \n",
    "            #print(pf, base_hits, pf_hits, simpoint_covs[pf][spidx])\n",
    "    return simpoint_covs"
   ]
  },
  {
   "cell_type": "code",
   "execution_count": 76,
   "metadata": {},
   "outputs": [],
   "source": [
    "simpoint_covs = get_simpoint_coverages(results)"
   ]
  },
  {
   "cell_type": "code",
   "execution_count": 77,
   "metadata": {},
   "outputs": [
    {
     "data": {
      "image/png": "[encoded data removed]",
      "text/plain": [
       "<Figure size 768x512 with 1 Axes>"
      ]
     },
     "metadata": {
      "needs_background": "light"
     },
     "output_type": "display_data"
    }
   ],
   "source": [
    "plot_results(\n",
    "    simpoint_covs, 'Coverage', 'Coverage (%)',\n",
    "    subtitle=trace,\n",
    "    factor=100.,\n",
    "    #ymax=550,\n",
    "    simpoint_weights=simpoint_weights\n",
    ")"
   ]
  },
  {
   "cell_type": "code",
   "execution_count": 78,
   "metadata": {},
   "outputs": [
    {
     "data": {
      "text/html": [
       "<div>\n",
       "<style scoped>\n",
       "    .dataframe tbody tr th:only-of-type {\n",
       "        vertical-align: middle;\n",
       "    }\n",
       "\n",
       "    .dataframe tbody tr th {\n",
       "        vertical-align: top;\n",
       "    }\n",
       "\n",
       "    .dataframe thead th {\n",
       "        text-align: right;\n",
       "    }\n",
       "</style>\n",
       "<table border=\"1\" class=\"dataframe\">\n",
       "  <thead>\n",
       "    <tr style=\"text-align: right;\">\n",
       "      <th></th>\n",
       "      <th>BO</th>\n",
       "      <th>ISB</th>\n",
       "      <th>ISB+BO</th>\n",
       "    </tr>\n",
       "  </thead>\n",
       "  <tbody>\n",
       "    <tr>\n",
       "      <th>0</th>\n",
       "      <td>0.00</td>\n",
       "      <td>145.13</td>\n",
       "      <td>145.13</td>\n",
       "    </tr>\n",
       "    <tr>\n",
       "      <th>1</th>\n",
       "      <td>0.41</td>\n",
       "      <td>8.64</td>\n",
       "      <td>8.70</td>\n",
       "    </tr>\n",
       "    <tr>\n",
       "      <th>2</th>\n",
       "      <td>124.37</td>\n",
       "      <td>671.61</td>\n",
       "      <td>671.63</td>\n",
       "    </tr>\n",
       "  </tbody>\n",
       "</table>\n",
       "</div>"
      ],
      "text/plain": [
       "       BO     ISB  ISB+BO\n",
       "0    0.00  145.13  145.13\n",
       "1    0.41    8.64    8.70\n",
       "2  124.37  671.61  671.63"
      ]
     },
     "execution_count": 78,
     "metadata": {},
     "output_type": "execute_result"
    }
   ],
   "source": [
    "df_results(simpoint_covs, factor=100, pop=['NoPrefetcher'])"
   ]
  },
  {
   "cell_type": "markdown",
   "metadata": {},
   "source": [
    "---\n",
    "# Unified accuracy/coverage"
   ]
  },
  {
   "cell_type": "code",
   "execution_count": 79,
   "metadata": {},
   "outputs": [],
   "source": [
    "def get_simpoint_uacs(results):\n",
    "    \"\"\"Parse the results dictionary to get an array\n",
    "    of simpoint UACs for each prefetcher. For prefetcher \n",
    "    p, simpoint_uacs[p][i] is the UAC of p on\n",
    "    simpoint s_i.\n",
    "    \"\"\"\n",
    "    num_simpoints = len(results)\n",
    "    simpoint_uacs = defaultdict(lambda : np.zeros(num_simpoints, dtype=np.float32)) # Simpoint IPCs, indexed by prefetcher.\n",
    "    for spidx, sp in enumerate(results):\n",
    "        for pf in sp:\n",
    "            # TODO handle missing / incomplete traces automatically \n",
    "            # (instead of using a debug if statement here to filter \n",
    "            # out unfinished runs)\n",
    "            simpoint_uacs[pf][spidx] = sp[pf].uac\n",
    "    return simpoint_uacs"
   ]
  },
  {
   "cell_type": "code",
   "execution_count": 80,
   "metadata": {},
   "outputs": [
    {
     "data": {
      "text/plain": [
       "defaultdict(<function __main__.get_simpoint_uacs.<locals>.<lambda>()>,\n",
       "            {'BO': array([0.        , 0.03621669, 0.00482091], dtype=float32),\n",
       "             'NoPrefetcher': array([0., 0., 0.], dtype=float32),\n",
       "             'ISB': array([0.38503247, 0.21931455, 0.22985019], dtype=float32),\n",
       "             'ISB+BO': array([0.38503247, 0.21912389, 0.22978877], dtype=float32)})"
      ]
     },
     "execution_count": 80,
     "metadata": {},
     "output_type": "execute_result"
    }
   ],
   "source": [
    "simpoint_uacs = get_simpoint_uacs(results)\n",
    "simpoint_uacs"
   ]
  },
  {
   "cell_type": "code",
   "execution_count": 81,
   "metadata": {},
   "outputs": [
    {
     "data": {
      "image/png": "[encoded data removed]",
      "text/plain": [
       "<Figure size 768x512 with 1 Axes>"
      ]
     },
     "metadata": {
      "needs_background": "light"
     },
     "output_type": "display_data"
    }
   ],
   "source": [
    "plot_results(\n",
    "    simpoint_uacs, 'Unifed accuracy/coverage', 'UAC (%)',\n",
    "    subtitle=trace,\n",
    "    factor=100.,\n",
    "    ymax=100,\n",
    "    simpoint_weights=simpoint_weights\n",
    ")"
   ]
  },
  {
   "cell_type": "code",
   "execution_count": 82,
   "metadata": {},
   "outputs": [
    {
     "data": {
      "text/html": [
       "<div>\n",
       "<style scoped>\n",
       "    .dataframe tbody tr th:only-of-type {\n",
       "        vertical-align: middle;\n",
       "    }\n",
       "\n",
       "    .dataframe tbody tr th {\n",
       "        vertical-align: top;\n",
       "    }\n",
       "\n",
       "    .dataframe thead th {\n",
       "        text-align: right;\n",
       "    }\n",
       "</style>\n",
       "<table border=\"1\" class=\"dataframe\">\n",
       "  <thead>\n",
       "    <tr style=\"text-align: right;\">\n",
       "      <th></th>\n",
       "      <th>BO</th>\n",
       "      <th>ISB</th>\n",
       "      <th>ISB+BO</th>\n",
       "    </tr>\n",
       "  </thead>\n",
       "  <tbody>\n",
       "    <tr>\n",
       "      <th>0</th>\n",
       "      <td>0.00</td>\n",
       "      <td>38.50</td>\n",
       "      <td>38.50</td>\n",
       "    </tr>\n",
       "    <tr>\n",
       "      <th>1</th>\n",
       "      <td>3.62</td>\n",
       "      <td>21.93</td>\n",
       "      <td>21.91</td>\n",
       "    </tr>\n",
       "    <tr>\n",
       "      <th>2</th>\n",
       "      <td>0.48</td>\n",
       "      <td>22.99</td>\n",
       "      <td>22.98</td>\n",
       "    </tr>\n",
       "  </tbody>\n",
       "</table>\n",
       "</div>"
      ],
      "text/plain": [
       "     BO    ISB  ISB+BO\n",
       "0  0.00  38.50   38.50\n",
       "1  3.62  21.93   21.91\n",
       "2  0.48  22.99   22.98"
      ]
     },
     "execution_count": 82,
     "metadata": {},
     "output_type": "execute_result"
    }
   ],
   "source": [
    "df_results(simpoint_uacs, factor=100, pop=['NoPrefetcher'])"
   ]
  }
 ],
 "metadata": {
  "interpreter": {
   "hash": "bd4ceb9d43119961c2ca444845453e6cb9b6d554d33f2e2d62e14020b8aaaf6d"
  },
  "kernelspec": {
   "display_name": "tensorflow",
   "language": "python",
   "name": "tensorflow"
  },
  "language_info": {
   "codemirror_mode": {
    "name": "ipython",
    "version": 3
   },
   "file_extension": ".py",
   "mimetype": "text/x-python",
   "name": "python",
   "nbconvert_exporter": "python",
   "pygments_lexer": "ipython3",
   "version": "3.9.6"
  }
 },
 "nbformat": 4,
 "nbformat_minor": 4
}
