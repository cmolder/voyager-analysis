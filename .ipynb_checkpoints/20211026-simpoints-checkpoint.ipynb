{
 "cells": [
  {
   "cell_type": "markdown",
   "metadata": {},
   "source": [
    "# 20211012-simpoints\n",
    "Evaluate IPCs over simpoints for the base prefetchers."
   ]
  },
  {
   "cell_type": "code",
   "execution_count": 9,
   "metadata": {},
   "outputs": [],
   "source": [
    "import os\n",
    "import sys\n",
    "import glob\n",
    "from collections import defaultdict\n",
    "\n",
    "import numpy as np\n",
    "import pandas as pd\n",
    "from scipy import stats\n",
    "import attrdict\n",
    "import matplotlib.pyplot as plt"
   ]
  },
  {
   "cell_type": "code",
   "execution_count": 10,
   "metadata": {},
   "outputs": [],
   "source": [
    "def load_simpoint_weights(simpoints_file, trace):\n",
    "    \"\"\"Load simpoint weights for a given trace.\"\"\"\n",
    "    simpoints = pd.read_csv(simpoints_file)\n",
    "    simpoints.columns = ['trace', 'weight']\n",
    "    tr_points = simpoints[simpoints.trace.str.contains(trace)]\n",
    "    \n",
    "    weights = np.array(tr_points.weight.array)\n",
    "    return weights"
   ]
  },
  {
   "cell_type": "code",
   "execution_count": 11,
   "metadata": {},
   "outputs": [
    {
     "name": "stdout",
     "output_type": "stream",
     "text": [
      "mcf simpoint weights: [0.126582  0.0141772 0.128608  0.0116456 0.0313924 0.0349367 0.440506\n",
      " 0.0688608 0.142785 ]\n"
     ]
    }
   ],
   "source": [
    "trace = 'mcf'\n",
    "simpoints_file = 'data/simpoint-weights/spec17.csv'\n",
    "simpoint_weights = load_simpoint_weights(simpoints_file, trace)\n",
    "print(f'{trace} simpoint weights:', simpoint_weights)"
   ]
  },
  {
   "cell_type": "code",
   "execution_count": 12,
   "metadata": {},
   "outputs": [],
   "source": [
    "def parse_champsim_result_file(f, max_instruction_num=None, min_instruction_interval=0):\n",
    "    data = {\n",
    "        'instructions': [],\n",
    "        'cycles': [],\n",
    "        'heartbeat_ipcs': [],\n",
    "        'cumulative_ipcs': [],\n",
    "        'cumulative_sim_times': [],\n",
    "    }\n",
    "    \n",
    "    last_instruction = 0\n",
    "    warmups_completed = 0 # 0 = none, 1 = CPU, 2 = CPU + prefetch\n",
    "    for line in f:\n",
    "        line_tokens = line.split(' ')\n",
    "        \n",
    "        # Only append data after the prefetch warmup completes.\n",
    "        # DEBUG - Hardcoded stop condition (for now. It should stop\n",
    "        # automatically, but for some reason it doesn't).\n",
    "        if 'Warmup complete' in line:\n",
    "            warmups_completed += 1\n",
    "        \n",
    "        if 'Heartbeat' in line:\n",
    "            #print(line)\n",
    "            instructions = int(line_tokens[line_tokens.index('instructions:') + 1])\n",
    "            cycles = int(line_tokens[line_tokens.index('cycles:') + 1])\n",
    "            heartbeat_ipc = float(line_tokens[line_tokens.index('heartbeat') + 2])\n",
    "            cumulative_ipc = float(line_tokens[line_tokens.index('cumulative') + 2])\n",
    "            cumulative_sim_time = int(line_tokens[line_tokens.index('time:') + 1]) * 3600 \\\n",
    "                              + int(line_tokens[line_tokens.index('time:') + 3]) * 60 \\\n",
    "                              + int(line_tokens[line_tokens.index('time:') + 5]) \\\n",
    "\n",
    "            # DEBUG - Temporary fix until we can figure out why\n",
    "            # ChampSim runs too long.\n",
    "            if max_instruction_num and instructions >= max_instruction_num: \n",
    "                warmups_completed = 0\n",
    "            \n",
    "            if warmups_completed >= 2 and instructions - last_instruction > min_instruction_interval:\n",
    "                data['instructions'].append(instructions)\n",
    "                data['cycles'].append(cycles)\n",
    "                data['heartbeat_ipcs'].append(heartbeat_ipc)\n",
    "                data['cumulative_ipcs'].append(cumulative_ipc)\n",
    "                data['cumulative_sim_times'].append(cumulative_sim_time)\n",
    "                last_instruction = instructions\n",
    "    \n",
    "    return attrdict.AttrDict(data)\n",
    "\n",
    "def load_champsim_base_results(base, tracename, **kwargs):\n",
    "    base_path = base + f'/*{tracename}*.txt'\n",
    "    data = {}\n",
    "    print('\\nLoading ChampSim base prefetcher results from:', base_path)\n",
    "    variation_paths = glob.glob(base_path)\n",
    "    for path in variation_paths:\n",
    "        if '-bo' in os.path.basename(path):\n",
    "            variation_name = 'bo'\n",
    "        elif '-sisb_bo' in os.path.basename(path):\n",
    "            variation_name = 'sisb-bo'\n",
    "        elif '-sisb-' in os.path.basename(path):\n",
    "            variation_name = 'sisb'\n",
    "        elif '-no' in os.path.basename(path):\n",
    "            variation_name = 'no-prefetcher'\n",
    "        else:\n",
    "            continue\n",
    "            \n",
    "        print(f'Found variation: {variation_name}')\n",
    "        with open(path, 'r') as f:\n",
    "            data[variation_name] = parse_champsim_result_file(\n",
    "                f, **kwargs\n",
    "            )\n",
    "    return data"
   ]
  },
  {
   "cell_type": "code",
   "execution_count": 12,
   "metadata": {},
   "outputs": [
    {
     "name": "stdout",
     "output_type": "stream",
     "text": [
      "\n",
      "Loading ChampSim base prefetcher results from: data/base//*mcf-s0*.txt\n",
      "Found variation: bo\n",
      "Found variation: no-prefetcher\n",
      "Found variation: sisb\n",
      "\n",
      "Loading ChampSim base prefetcher results from: data/base//*mcf-s1*.txt\n",
      "Found variation: bo\n",
      "Found variation: no-prefetcher\n",
      "\n",
      "Loading ChampSim base prefetcher results from: data/base//*mcf-s2*.txt\n",
      "Found variation: bo\n",
      "Found variation: no-prefetcher\n",
      "\n",
      "Loading ChampSim base prefetcher results from: data/base//*mcf-s3*.txt\n",
      "Found variation: bo\n",
      "Found variation: no-prefetcher\n",
      "\n",
      "Loading ChampSim base prefetcher results from: data/base//*mcf-s4*.txt\n",
      "Found variation: bo\n",
      "Found variation: no-prefetcher\n",
      "\n",
      "Loading ChampSim base prefetcher results from: data/base//*mcf-s5*.txt\n",
      "Found variation: bo\n",
      "Found variation: no-prefetcher\n",
      "\n",
      "Loading ChampSim base prefetcher results from: data/base//*mcf-s6*.txt\n",
      "Found variation: bo\n",
      "Found variation: no-prefetcher\n",
      "Found variation: sisb-bo\n",
      "Found variation: sisb\n",
      "\n",
      "Loading ChampSim base prefetcher results from: data/base//*mcf-s7*.txt\n",
      "Found variation: bo\n",
      "Found variation: no-prefetcher\n",
      "\n",
      "Loading ChampSim base prefetcher results from: data/base//*mcf-s8*.txt\n",
      "Found variation: bo\n",
      "Found variation: no-prefetcher\n",
      "Found variation: sisb\n"
     ]
    }
   ],
   "source": [
    "base_data = []\n",
    "for i in range(len(simpoint_weights)):\n",
    "    base_data.append(load_champsim_base_results(f'data/base/', f'mcf-s{i}', max_instruction_num=500000000, min_instruction_interval=3900000))"
   ]
  },
  {
   "cell_type": "markdown",
   "metadata": {},
   "source": [
    "---\n",
    "# Weighted average IPCs\n",
    "- Take the weighted geometric mean of IPCs for the given trace, using the simpoint weights."
   ]
  },
  {
   "cell_type": "code",
   "execution_count": null,
   "metadata": {},
   "outputs": [],
   "source": []
  },
  {
   "cell_type": "code",
   "execution_count": 14,
   "metadata": {},
   "outputs": [
    {
     "name": "stdout",
     "output_type": "stream",
     "text": [
      "[0.295027 0.252485 0.156495 0.38567  0.27754  0.362148 0.422591 0.16703\n",
      " 0.346397]\n"
     ]
    },
    {
     "data": {
      "text/plain": [
       "0.31537083748891603"
      ]
     },
     "execution_count": 14,
     "metadata": {},
     "output_type": "execute_result"
    }
   ],
   "source": [
    "def get_simpoint_ipcs(results):\n",
    "    num_simpoints = len(results)\n",
    "    simpoint_ipcs = defaultdict(lambda : np.zeros(num_simpoints, dtype=np.float32)) # Simpoint IPCs organized by prefetcher.\n",
    "    for spidx, sp in enumerate(results):\n",
    "        for pf in sp:\n",
    "            if pf == 'no-prefetcher': # DEBUG - dummy until we get all simpoints in REMOVE ME!\n",
    "                simpoint_ipcs[pf][spidx] = sp[pf].cumulative_ipcs[-1]\n",
    "    return simpoint_ipcs\n",
    "\n",
    "def get_mean_ipcs(results, simpoint_weights):\n",
    "    simpoint_ipcs = get_simpoint_ipcs(results)\n",
    "    mean_ipcs = {}\n",
    "    for pf in simpoint_ipcs:\n",
    "        mean_ipcs[pf] = stats.mstats.gmean(simpoint_ipcs[pf], weights=simpoint_weights)\n",
    "    return mean_ipcs\n",
    "        \n",
    "\n",
    "simpoint_ipcs = get_simpoint_ipcs(base_data)\n",
    "print(simpoint_ipcs['no-prefetcher'])\n",
    "\n",
    "# Weighted geometric mean\n",
    "stats.mstats.gmean(simpoint_ipcs['no-prefetcher'], weights=simpoint_weights)"
   ]
  }
 ],
 "metadata": {
  "kernelspec": {
   "display_name": "tensorflow",
   "language": "python",
   "name": "tensorflow"
  },
  "language_info": {
   "codemirror_mode": {
    "name": "ipython",
    "version": 3
   },
   "file_extension": ".py",
   "mimetype": "text/x-python",
   "name": "python",
   "nbconvert_exporter": "python",
   "pygments_lexer": "ipython3",
   "version": "3.9.6"
  }
 },
 "nbformat": 4,
 "nbformat_minor": 4
}
